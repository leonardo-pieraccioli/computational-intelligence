{
 "cells": [
  {
   "cell_type": "markdown",
   "metadata": {},
   "source": [
    "Copyright **`(c)`** 2023 Giovanni Squillero `<giovanni.squillero@polito.it>`  \n",
    "[`https://github.com/squillero/computational-intelligence`](https://github.com/squillero/computational-intelligence)  \n",
    "Free for personal or classroom use; see [`LICENSE.md`](https://github.com/squillero/computational-intelligence/blob/master/LICENSE.md) for details.  "
   ]
  },
  {
   "cell_type": "code",
   "execution_count": 19,
   "metadata": {},
   "outputs": [],
   "source": [
    "from random import random\n",
    "from functools import reduce\n",
    "from collections import namedtuple\n",
    "from queue import PriorityQueue, SimpleQueue, LifoQueue\n",
    "import numpy as np\n",
    "import time"
   ]
  },
  {
   "cell_type": "code",
   "execution_count": 20,
   "metadata": {},
   "outputs": [],
   "source": [
    "PROBLEM_SIZE = 20\n",
    "NUM_SETS = 30\n",
    "SETS = tuple(\n",
    "    np.array([random() < 0.3 for _ in range(PROBLEM_SIZE)]) \n",
    "    for _ in range(NUM_SETS)\n",
    ")\n",
    "State = namedtuple(\"State\", [\"taken\", \"not_taken\"])"
   ]
  },
  {
   "cell_type": "code",
   "execution_count": 21,
   "metadata": {},
   "outputs": [],
   "source": [
    "# function that validate the solution of the problemS\n",
    "def goal_check(state):\n",
    "    return np.all(\n",
    "        reduce(\n",
    "            np.logical_or,\n",
    "            [SETS[i] for i in state.taken],\n",
    "            np.array([False for _ in range(PROBLEM_SIZE)]),\n",
    "        )\n",
    "    )"
   ]
  },
  {
   "cell_type": "code",
   "execution_count": 22,
   "metadata": {},
   "outputs": [],
   "source": [
    "# ensures the problem is solvable\n",
    "while not goal_check(State(set(range(NUM_SETS)), set())):\n",
    "    SETS = tuple(\n",
    "        np.array([random() < 0.3 for _ in range(PROBLEM_SIZE)]) \n",
    "        for _ in range(NUM_SETS)\n",
    "    )"
   ]
  },
  {
   "cell_type": "code",
   "execution_count": 23,
   "metadata": {},
   "outputs": [],
   "source": [
    "# function that prints sets in a human readable way\n",
    "def print_sets(sets_indexes):\n",
    "    for index in sets_indexes:\n",
    "        set = SETS[index]\n",
    "        print(index, end=':\\t')\n",
    "        for element in set:\n",
    "            if element:\n",
    "                print('* ', end='')\n",
    "            else: \n",
    "                print('_ ', end='')\n",
    "        print()"
   ]
  },
  {
   "cell_type": "markdown",
   "metadata": {},
   "source": [
    "# Differences from the solution proposed during the lecture\n",
    "\n",
    "> Starting point: https://github.com/squillero/computational-intelligence/blob/95b17233025786bc4b6eedafee1718fb557487f1/2023-24/set-covering.ipynb \n",
    "\n",
    "\n",
    "## Cost function\n",
    "I defined a cost function that was previously missing that returns how many sets are taken in a state. In this way the algorithm will try to find the solution with the least amount of sets involved.\n",
    "\n",
    "## Heuristic\n",
    "The heuristic is the same proposed by the professor, so the number of uncovered elements. This allows the algorithm to check first the sets with the most covered elements, because the priority queue takes the lowest value first."
   ]
  },
  {
   "cell_type": "code",
   "execution_count": 24,
   "metadata": {},
   "outputs": [],
   "source": [
    "# cost function for the astar search that returns the number of sets taken\n",
    "def cost(state):\n",
    "    return len(state.taken)\n",
    "\n",
    "def heuristic1(state):\n",
    "    return PROBLEM_SIZE - sum(\n",
    "        reduce(\n",
    "            np.logical_or,\n",
    "            [SETS[i] for i in state.taken],\n",
    "            np.array([False for _ in range(PROBLEM_SIZE)]),\n",
    "        )\n",
    "    )\n",
    "\n",
    "def priority1(state):\n",
    "    return cost(state) + heuristic1(state)\n",
    "\n"
   ]
  },
  {
   "cell_type": "code",
   "execution_count": 25,
   "metadata": {},
   "outputs": [],
   "source": [
    "def astar_search(priority):\n",
    "    state = State(set(), set(range(NUM_SETS)))\n",
    "    frontier = PriorityQueue()\n",
    "    frontier.put((priority(state), State(set(), set(range(NUM_SETS)))))\n",
    "\n",
    "    total_time = 0\n",
    "    step = 0\n",
    "    _, current_state = frontier.get()\n",
    "    while not goal_check(current_state):\n",
    "        step += 1\n",
    "        start_time = time.time()\n",
    "        for action in current_state[1]:\n",
    "            new_state = State(\n",
    "                current_state.taken ^ {action}, \n",
    "                current_state.not_taken ^ {action}\n",
    "            )\n",
    "            frontier.put((priority(new_state), new_state))\n",
    "        end_time = time.time()\n",
    "        total_time += end_time - start_time\n",
    "        print(f\"Step {step:,} took {end_time - start_time:.6f} seconds\")\n",
    "        _, current_state = frontier.get()\n",
    "\n",
    "    print(f\"Solved in {step:,} steps and {total_time} seconds\\n\")\n",
    "    return current_state.taken"
   ]
  },
  {
   "cell_type": "code",
   "execution_count": 26,
   "metadata": {},
   "outputs": [
    {
     "name": "stdout",
     "output_type": "stream",
     "text": [
      "Step 1 took 0.000000 seconds\n",
      "Step 2 took 0.000000 seconds\n",
      "Step 3 took 0.000000 seconds\n",
      "Step 4 took 0.000000 seconds\n",
      "Step 5 took 0.000000 seconds\n",
      "Solved in 5 steps and 0.0 seconds\n",
      "\n"
     ]
    }
   ],
   "source": [
    "astar_solution1 = astar_search(priority1)"
   ]
  },
  {
   "cell_type": "code",
   "execution_count": 27,
   "metadata": {},
   "outputs": [
    {
     "name": "stdout",
     "output_type": "stream",
     "text": [
      "A* first solution:\n",
      "{2, 26, 18, 27}\n",
      "2:\t* * _ _ _ * _ _ * _ _ _ * * _ _ _ _ * _ \n",
      "26:\t_ * * _ * _ _ * * * _ _ * _ * * * _ _ * \n",
      "18:\t* _ * * _ _ _ _ * _ _ * * _ _ _ _ _ _ _ \n",
      "27:\t_ _ _ * _ _ * _ _ * * _ * * _ * _ * _ _ \n"
     ]
    }
   ],
   "source": [
    "print(\"A* first solution:\")\n",
    "print(astar_solution1)\n",
    "print_sets(astar_solution1)"
   ]
  },
  {
   "cell_type": "markdown",
   "metadata": {},
   "source": [
    "# Results\n",
    "\n"
   ]
  }
 ],
 "metadata": {
  "kernelspec": {
   "display_name": "ci-P-7LqQ3C-py3.11",
   "language": "python",
   "name": "python3"
  },
  "language_info": {
   "codemirror_mode": {
    "name": "ipython",
    "version": 3
   },
   "file_extension": ".py",
   "mimetype": "text/x-python",
   "name": "python",
   "nbconvert_exporter": "python",
   "pygments_lexer": "ipython3",
   "version": "3.11.5"
  }
 },
 "nbformat": 4,
 "nbformat_minor": 2
}
