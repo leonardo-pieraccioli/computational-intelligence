{
 "cells": [
  {
   "cell_type": "code",
   "execution_count": 11,
   "metadata": {},
   "outputs": [
    {
     "data": {
      "text/plain": [
       "(array([  1.,   0.,   0.,   0.,   0.,   0.,   0.,   0.,   0.,   0.,   0.,\n",
       "          0.,   0.,   1.,   0.,   0.,   0.,   0.,   0.,   0.,   0.,   0.,\n",
       "          0.,   0.,   0.,   0.,   0.,   0.,   0.,   0.,   0.,   0.,   0.,\n",
       "          0.,   0.,   0.,   0.,   0.,   0.,   0.,   0.,   2.,   0.,   0.,\n",
       "          1.,   1.,   0.,   1.,   0.,   0.,   0.,   0.,   0.,   0.,   0.,\n",
       "          0.,   0.,   0.,   0.,   0.,   0.,   0.,   0.,   1.,   0.,   1.,\n",
       "          0.,   0.,   0.,   1.,   0.,   0.,   0.,   0.,   0.,   0.,   0.,\n",
       "          0.,   0.,   2.,   1.,   0.,   0.,   0.,   0.,   0.,   1.,   1.,\n",
       "          0.,   2.,   0.,   3.,   1.,   1.,   0.,   2.,   0.,   0.,   0.,\n",
       "          0.,   1.,   1.,   3.,   1.,   0.,   3.,   1.,   4.,   2.,   1.,\n",
       "          2.,   2.,   1.,   1.,   2.,   1.,   4.,   3.,   2.,   0.,   0.,\n",
       "          1.,   4.,   1.,   2.,   3.,   4.,   1.,   1.,   2.,   3.,   4.,\n",
       "          4.,   1.,   1.,   3.,   1.,   3.,   5.,   1.,   3.,   0.,   3.,\n",
       "          6.,   3.,   4.,   5.,   1.,   4.,   7.,   6.,   1.,   5.,   3.,\n",
       "          9.,   7.,   4.,   6.,   8.,   8.,   5.,   8.,   9.,   8.,  10.,\n",
       "          9.,   6.,   6.,   7.,   9.,  10.,   9.,   4.,   5.,  11.,   7.,\n",
       "          6.,   5.,  10.,  11.,   8.,  10.,  11.,   7.,  14.,   6.,  15.,\n",
       "         12.,  11.,  18.,  10.,   7.,  11.,  20.,  16.,  14.,  14.,  13.,\n",
       "         21.,  18.,  12.,  12.,  20.,  21.,   9.,  22.,  18.,  24.,  26.,\n",
       "         25.,  15.,  25.,  14.,  20.,  24.,  24.,  21.,  27.,  24.,  21.,\n",
       "         21.,  25.,  28.,  25.,  26.,  29.,  28.,  33.,  17.,  28.,  40.,\n",
       "         40.,  35.,  33.,  32.,  32.,  37.,  43.,  36.,  37.,  35.,  40.,\n",
       "         40.,  48.,  42.,  27.,  47.,  39.,  39.,  35.,  45.,  57.,  63.,\n",
       "         53.,  49.,  47.,  48.,  46.,  57.,  61.,  53.,  50.,  63.,  49.,\n",
       "         64.,  67.,  65.,  65.,  74.,  68.,  59.,  67.,  60.,  76.,  98.,\n",
       "         85.,  91.,  78.,  78.,  79.,  87.,  91.,  74.,  75.,  93.,  90.,\n",
       "         85.,  92., 100.,  93.,  94.,  87., 105., 101.,  94.,  99., 102.,\n",
       "         93., 104., 111., 101., 129., 105., 125., 107., 136., 133., 127.,\n",
       "        129., 132., 111., 145., 147., 141., 148., 138., 129., 154., 145.,\n",
       "        146., 148., 160., 152., 116., 149., 172., 152., 189., 167., 176.,\n",
       "        177., 171., 170., 160., 175., 177., 166., 207., 168., 171., 201.,\n",
       "        170., 186., 192., 174., 175., 191., 193., 221., 242., 206., 226.,\n",
       "        193., 195., 224., 210., 256., 249., 185., 242., 244., 235., 234.,\n",
       "        236., 223., 260., 238., 237., 250., 246., 281., 279., 282., 258.,\n",
       "        254., 255., 247., 262., 288., 248., 250., 315., 302., 294., 270.,\n",
       "        273., 314., 280., 273., 280., 293., 277., 287., 315., 292., 316.,\n",
       "        272., 314., 341., 282., 316., 304., 322., 314., 334., 339., 350.,\n",
       "        333., 345., 351., 312., 315., 322., 375., 333., 359., 347., 328.,\n",
       "        339., 318., 367., 356., 360., 349., 388., 345., 363., 355., 371.,\n",
       "        335., 371., 360., 390., 345., 372., 361., 390., 384., 350., 379.,\n",
       "        362., 373., 352., 376., 392., 347., 350., 395., 365., 420., 385.,\n",
       "        383., 370., 406., 368., 389., 392., 383., 375., 351., 385., 429.,\n",
       "        363., 371., 397., 383., 368., 385., 392., 385., 376., 380., 424.,\n",
       "        341., 407., 386., 396., 364., 393., 378., 396., 360., 416., 368.,\n",
       "        385., 367., 394., 368., 357., 377., 392., 399., 393., 353., 363.,\n",
       "        349., 354., 335., 362., 350., 329., 338., 372., 373., 363., 366.,\n",
       "        344., 342., 329., 329., 364., 335., 346., 320., 366., 339., 338.,\n",
       "        363., 312., 305., 330., 346., 330., 319., 308., 292., 324., 360.,\n",
       "        311., 281., 317., 303., 302., 303., 290., 321., 323., 281., 302.,\n",
       "        321., 271., 267., 340., 270., 286., 282., 298., 283., 283., 301.,\n",
       "        266., 246., 294., 255., 264., 277., 285., 248., 231., 225., 262.,\n",
       "        236., 249., 262., 216., 239., 223., 245., 230., 232., 237., 210.,\n",
       "        196., 196., 206., 240., 251., 198., 205., 207., 222., 196., 204.,\n",
       "        203., 192., 211., 184., 191., 176., 195., 202., 164., 196., 190.,\n",
       "        185., 170., 154., 164., 148., 175., 149., 186., 170., 141., 148.,\n",
       "        141., 136., 142., 129., 138., 147., 136., 167., 136., 151., 127.,\n",
       "        135., 120., 134., 110., 128., 136., 118., 117., 119., 110., 109.,\n",
       "        134., 138.,  90., 115.,  93.,  92., 109., 101.,  85.,  79., 123.,\n",
       "         96.,  84.,  90.,  98.,  85.,  95., 100., 102.,  78.,  70.,  92.,\n",
       "         76.,  80.,  68.,  79.,  89.,  53.,  60.,  82.,  73.,  63.,  67.,\n",
       "         59.,  72.,  68.,  52.,  56.,  55.,  56.,  58.,  53.,  48.,  51.,\n",
       "         43.,  53.,  63.,  42.,  60.,  40.,  41.,  42.,  46.,  59.,  45.,\n",
       "         54.,  49.,  44.,  45.,  43.,  38.,  37.,  44.,  39.,  36.,  45.,\n",
       "         31.,  50.,  26.,  27.,  31.,  23.,  29.,  29.,  21.,  25.,  23.,\n",
       "         29.,  31.,  30.,  31.,  29.,  31.,  25.,  24.,  24.,  25.,  20.,\n",
       "         17.,  19.,  21.,  17.,  20.,  13.,  24.,  22.,  14.,  16.,  23.,\n",
       "         21.,  14.,  21.,  15.,  22.,  22.,  18.,  12.,  11.,  18.,  15.,\n",
       "          8.,   9.,  16.,  13.,  15.,  17.,  13.,  10.,   2.,  12.,   6.,\n",
       "         10.,  10.,   5.,  11.,   8.,   3.,   8.,   8.,   4.,  11.,  12.,\n",
       "          9.,   7.,   3.,   9.,   7.,   2.,   6.,   6.,   6.,   4.,   7.,\n",
       "          3.,   7.,  10.,   2.,   4.,   6.,   4.,   3.,   7.,   6.,   4.,\n",
       "          3.,   2.,   4.,   3.,   4.,   2.,   3.,   1.,   5.,   3.,   1.,\n",
       "          4.,   2.,   5.,   3.,   5.,   6.,   2.,   4.,   1.,   0.,   1.,\n",
       "          0.,   4.,   0.,   2.,   2.,   2.,   2.,   4.,   0.,   2.,   0.,\n",
       "          2.,   0.,   1.,   1.,   1.,   1.,   2.,   2.,   0.,   1.,   0.,\n",
       "          0.,   0.,   2.,   1.,   1.,   0.,   1.,   0.,   0.,   1.,   0.,\n",
       "          1.,   0.,   0.,   0.,   0.,   0.,   0.,   1.,   0.,   0.,   0.,\n",
       "          0.,   0.,   0.,   0.,   0.,   0.,   0.,   0.,   0.,   0.,   0.,\n",
       "          0.,   0.,   0.,   2.,   0.,   0.,   1.,   1.,   1.,   0.,   0.,\n",
       "          0.,   0.,   0.,   1.,   2.,   0.,   1.,   0.,   0.,   0.,   0.,\n",
       "          0.,   0.,   0.,   0.,   0.,   0.,   1.,   0.,   0.,   0.,   0.,\n",
       "          0.,   0.,   0.,   0.,   0.,   0.,   0.,   0.,   0.,   2.,   0.,\n",
       "          0.,   0.,   0.,   1.,   0.,   0.,   0.,   0.,   0.,   0.,   0.,\n",
       "          0.,   0.,   0.,   0.,   0.,   0.,   0.,   0.,   1.,   0.,   0.,\n",
       "          0.,   0.,   0.,   0.,   0.,   0.,   0.,   0.,   0.,   0.,   0.,\n",
       "          1.,   0.,   0.,   0.,   0.,   0.,   0.,   0.,   0.,   0.,   0.,\n",
       "          0.,   0.,   0.,   0.,   0.,   0.,   0.,   0.,   0.,   0.,   0.,\n",
       "          0.,   0.,   0.,   0.,   0.,   0.,   0.,   0.,   0.,   0.,   0.,\n",
       "          0.,   0.,   0.,   0.,   0.,   0.,   0.,   0.,   0.,   0.,   0.,\n",
       "          0.,   0.,   0.,   0.,   0.,   0.,   0.,   0.,   0.,   0.,   0.,\n",
       "          0.,   0.,   0.,   0.,   0.,   0.,   0.,   0.,   0.,   1.]),\n",
       " array([-0.00443558, -0.00442603, -0.00441649, ...,  0.00509142,\n",
       "         0.00510097,  0.00511052]),\n",
       " <BarContainer object of 1000 artists>)"
      ]
     },
     "execution_count": 11,
     "metadata": {},
     "output_type": "execute_result"
    },
    {
     "data": {
      "image/png": "[encoded data removed]",
      "text/plain": [
       "<Figure size 640x480 with 1 Axes>"
      ]
     },
     "metadata": {},
     "output_type": "display_data"
    }
   ],
   "source": [
    "from numpy import random\n",
    "import matplotlib.pyplot as plt\n",
    "\n",
    "plt.hist(random.normal(scale=0.001, size=100000), bins=1000)"
   ]
  }
 ],
 "metadata": {
  "kernelspec": {
   "display_name": ".venv",
   "language": "python",
   "name": "python3"
  },
  "language_info": {
   "codemirror_mode": {
    "name": "ipython",
    "version": 3
   },
   "file_extension": ".py",
   "mimetype": "text/x-python",
   "name": "python",
   "nbconvert_exporter": "python",
   "pygments_lexer": "ipython3",
   "version": "3.11.5"
  }
 },
 "nbformat": 4,
 "nbformat_minor": 2
}
