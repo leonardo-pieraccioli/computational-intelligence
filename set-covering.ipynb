{
 "cells": [
  {
   "cell_type": "markdown",
   "metadata": {},
   "source": [
    "Copyright **`(c)`** 2023 Giovanni Squillero `<giovanni.squillero@polito.it>`  \n",
    "[`https://github.com/squillero/computational-intelligence`](https://github.com/squillero/computational-intelligence)  \n",
    "Free for personal or classroom use; see [`LICENSE.md`](https://github.com/squillero/computational-intelligence/blob/master/LICENSE.md) for details.  "
   ]
  },
  {
   "cell_type": "code",
   "execution_count": 11,
   "metadata": {},
   "outputs": [],
   "source": [
    "from random import random\n",
    "from functools import reduce\n",
    "from collections import namedtuple\n",
    "from queue import PriorityQueue, SimpleQueue, LifoQueue\n",
    "import numpy as np\n",
    "import time"
   ]
  },
  {
   "cell_type": "code",
   "execution_count": 12,
   "metadata": {},
   "outputs": [],
   "source": [
    "PROBLEM_SIZE = 20\n",
    "NUM_SETS = 3500\n",
    "SETS = tuple(np.array([random() < .3 for _ in range(PROBLEM_SIZE)]) for _ in range(NUM_SETS))\n",
    "State = namedtuple('State', ['taken', 'not_taken'])"
   ]
  },
  {
   "cell_type": "code",
   "execution_count": 13,
   "metadata": {},
   "outputs": [],
   "source": [
    "# function that validate the solution of the problemS\n",
    "def goal_check(state):\n",
    "    return np.all(reduce(np.logical_or, [SETS[i] for i in state.taken], np.array([False for _ in range(PROBLEM_SIZE)])))"
   ]
  },
  {
   "cell_type": "code",
   "execution_count": 14,
   "metadata": {},
   "outputs": [],
   "source": [
    "# ensures the problem is solvable\n",
    "while not goal_check(State(set(range(NUM_SETS)), set())):\n",
    "    SETS = tuple(np.array([random() < .3 for _ in range(PROBLEM_SIZE)]) for _ in range(NUM_SETS))\n"
   ]
  },
  {
   "cell_type": "code",
   "execution_count": 15,
   "metadata": {},
   "outputs": [],
   "source": [
    "# cost function for the astar search that returns the number of sets taken\n",
    "def cost(state):\n",
    "    return len(state.taken)\n",
    "\n",
    "# heuristic for the astar search that returns the number of elements not covered\n",
    "def heuristic(state):\n",
    "    return PROBLEM_SIZE - sum(\n",
    "        reduce(\n",
    "            np.logical_or,\n",
    "            [SETS[i] for i in state.taken],\n",
    "            np.array([False for _ in range(PROBLEM_SIZE)]),\n",
    "        )\n",
    "    )"
   ]
  },
  {
   "cell_type": "code",
   "execution_count": 16,
   "metadata": {},
   "outputs": [],
   "source": [
    "def astar_search(cost, heuristic):\n",
    "    state = State(set(), set(range(NUM_SETS)))\n",
    "    frontier = PriorityQueue()\n",
    "    frontier.put((cost(state) + heuristic(state), State(set(), set(range(NUM_SETS)))))\n",
    "\n",
    "    total_time = 0\n",
    "    counter = 0\n",
    "    _, current_state = frontier.get()\n",
    "    while not goal_check(current_state):\n",
    "        counter += 1\n",
    "        \n",
    "        start_time = time.time()\n",
    "        for action in current_state[1]:\n",
    "            new_state = State(\n",
    "                current_state.taken ^ {action}, \n",
    "                current_state.not_taken ^ {action}\n",
    "            )\n",
    "            priority = cost(new_state) + heuristic(new_state)\n",
    "            frontier.put((priority, new_state))\n",
    "        end_time = time.time()\n",
    "        total_time += end_time - start_time\n",
    "        print(f\"Step {counter:,} took {end_time - start_time:.6f} seconds\")\n",
    "        _, current_state = frontier.get()\n",
    "\n",
    "    print(f\"Solved in {counter:,} steps and {total_time:.6f} seconds\")\n",
    "    return current_state.taken"
   ]
  },
  {
   "cell_type": "code",
   "execution_count": 17,
   "metadata": {},
   "outputs": [
    {
     "name": "stdout",
     "output_type": "stream",
     "text": [
      "Step 1 took 0.806225 seconds\n",
      "Step 2 took 0.741642 seconds\n",
      "Solved in 2 steps and 1.547866 seconds\n"
     ]
    }
   ],
   "source": [
    "astar_solution = astar_search(cost, heuristic)"
   ]
  },
  {
   "cell_type": "code",
   "execution_count": 18,
   "metadata": {},
   "outputs": [],
   "source": [
    "# This is the least efficient but complete way to verify that the solution find by A* is comparable to the optimal solution\n",
    "# Not viable to verify large problems\n",
    "def complete_search(cost_only=True):\n",
    "    optimal_solutions = []\n",
    "    min_cost = float('inf')\n",
    "\n",
    "    frontier = SimpleQueue()\n",
    "    frontier.put(State(set(), set(range(NUM_SETS))))\n",
    "\n",
    "    while not frontier.empty():\n",
    "        current_state = frontier.get()\n",
    "        if goal_check(current_state):\n",
    "            if(len(current_state.taken) < min_cost):\n",
    "                min_cost = len(current_state.taken)\n",
    "                if(current_state.taken not in optimal_solutions) and not cost_only:\n",
    "                    optimal_solutions.append(current_state.taken)\n",
    "        for action in current_state.not_taken:\n",
    "            new_state = State(\n",
    "                current_state.taken ^ {action}, \n",
    "                current_state.not_taken ^ {action}\n",
    "            )\n",
    "            if(len(new_state.taken) <= min_cost):\n",
    "                frontier.put(new_state)\n",
    "            else: \n",
    "                break\n",
    "    return optimal_solutions, min_cost"
   ]
  },
  {
   "cell_type": "code",
   "execution_count": 19,
   "metadata": {},
   "outputs": [],
   "source": [
    "def print_sets(sets_indexes):\n",
    "    for index in sets_indexes:\n",
    "        set = SETS[index]\n",
    "        print(index, end=':\\t')\n",
    "        for element in set:\n",
    "            if element:\n",
    "                print('* ', end='')\n",
    "            else: \n",
    "                print('_ ', end='')\n",
    "        print()"
   ]
  },
  {
   "cell_type": "code",
   "execution_count": 20,
   "metadata": {},
   "outputs": [
    {
     "name": "stdout",
     "output_type": "stream",
     "text": [
      "A* solution:\n",
      "{2673, 716}\n",
      "2673:\t* * _ * * * _ _ * * * _ * _ * _ * * _ * \n",
      "716:\t* * * _ * _ * * _ * _ * _ * * * * _ * _ \n"
     ]
    }
   ],
   "source": [
    "#_, min_cost = complete_search()\n",
    "#print(\"Optimal solutions has length:\", min_cost)\n",
    "print(\"A* solution:\")\n",
    "print(astar_solution)\n",
    "print_sets(astar_solution)\n",
    "#for i in optimal_solutions: \n",
    "#    print(i, end=':\\n') \n",
    "#    print_sets(i)\n",
    "#print(\"All the sets:\")\n",
    "#print_sets(range(NUM_SETS))"
   ]
  }
 ],
 "metadata": {
  "kernelspec": {
   "display_name": "ci-P-7LqQ3C-py3.11",
   "language": "python",
   "name": "python3"
  },
  "language_info": {
   "codemirror_mode": {
    "name": "ipython",
    "version": 3
   },
   "file_extension": ".py",
   "mimetype": "text/x-python",
   "name": "python",
   "nbconvert_exporter": "python",
   "pygments_lexer": "ipython3",
   "version": "3.11.5"
  }
 },
 "nbformat": 4,
 "nbformat_minor": 2
}
