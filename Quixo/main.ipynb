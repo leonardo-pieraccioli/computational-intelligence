{
 "cells": [
  {
   "cell_type": "markdown",
   "metadata": {},
   "source": [
    "# Quixo"
   ]
  },
  {
   "cell_type": "code",
   "execution_count": null,
   "metadata": {},
   "outputs": [],
   "source": [
    "from game import Game\n",
    "from random_player import RandomPlayer\n",
    "from minmax_player import MinmaxPlayer\n"
   ]
  },
  {
   "cell_type": "markdown",
   "metadata": {},
   "source": [
    "## Random vs Minmax"
   ]
  },
  {
   "cell_type": "code",
   "execution_count": null,
   "metadata": {},
   "outputs": [],
   "source": [
    "g = Game()\n",
    "player2 = MinmaxPlayer(1)\n",
    "player1 = RandomPlayer()\n",
    "winner = g.play(player1, player2, True)\n",
    "g.print()\n",
    "print(f\"Winner: Player {winner}\")"
   ]
  },
  {
   "cell_type": "markdown",
   "metadata": {},
   "source": [
    "## Minmax vs Random\n"
   ]
  },
  {
   "cell_type": "code",
   "execution_count": null,
   "metadata": {},
   "outputs": [],
   "source": [
    "g = Game()\n",
    "player1 = RandomPlayer()\n",
    "player2 = MinmaxPlayer()\n",
    "winner = g.play(player1, player2, watch=True)\n",
    "g.print()\n",
    "print(f\"Winner: Player {winner}\")"
   ]
  },
  {
   "cell_type": "code",
   "execution_count": null,
   "metadata": {},
   "outputs": [],
   "source": [
    "# array of all the possible moves for each position\n",
    "\n",
    "from game import Move\n",
    "MOVES = {\n",
    "    #corner moves\n",
    "    (0, 0): [Move.BOTTOM, Move.RIGHT],\n",
    "    (0, 4): [Move.BOTTOM, Move.LEFT],\n",
    "    (4, 0): [Move.TOP, Move.RIGHT],\n",
    "    (4, 4): [Move.TOP, Move.LEFT],\n",
    "    \n",
    "    # high border moves\n",
    "    (0, 1): [Move.BOTTOM, Move.RIGHT, Move.LEFT],\n",
    "    (0, 2): [Move.BOTTOM, Move.RIGHT, Move.LEFT],\n",
    "    (0, 3): [Move.BOTTOM, Move.RIGHT, Move.LEFT],\n",
    "    \n",
    "    # low border moves\n",
    "    (4, 1): [Move.TOP, Move.RIGHT, Move.LEFT],\n",
    "    (4, 2): [Move.TOP, Move.RIGHT, Move.LEFT],\n",
    "    (4, 3): [Move.TOP, Move.RIGHT, Move.LEFT],\n",
    "    \n",
    "    # left border moves\n",
    "    (1, 0): [Move.BOTTOM, Move.TOP, Move.RIGHT],\n",
    "    (2, 0): [Move.BOTTOM, Move.TOP, Move.RIGHT],\n",
    "    (3, 0): [Move.BOTTOM, Move.TOP, Move.RIGHT],\n",
    "    \n",
    "    # right border moves\n",
    "    (1, 4): [Move.BOTTOM, Move.TOP, Move.LEFT],\n",
    "    (2, 4): [Move.BOTTOM, Move.TOP, Move.LEFT],\n",
    "    (3, 4): [Move.BOTTOM, Move.TOP, Move.LEFT],\n",
    "}\n",
    "\n",
    "for a, b in MOVES.items():\n",
    "    print(a, b)"
   ]
  },
  {
   "cell_type": "code",
   "execution_count": null,
   "metadata": {},
   "outputs": [],
   "source": [
    "# function to count the number of consecutive pieces in the board\n",
    "\n",
    "import numpy as np\n",
    "from scipy.signal import convolve2d\n",
    "import time\n",
    "\n",
    "def count_consecutive(matrix, value, length):\n",
    "    # Create a filter for convolution\n",
    "    filter_horizontal = np.ones((1, length))\n",
    "    filter_vertical = np.ones((length, 1))\n",
    "    filter_diagonal1 = np.eye(length)\n",
    "    filter_diagonal2 = np.fliplr(filter_diagonal1)\n",
    "    \n",
    "    # Create a binary matrix for the given value\n",
    "    binary_matrix = (matrix == value).astype(int)\n",
    "\n",
    "    # Convolve the binary matrix with the filters\n",
    "    horizontal = convolve2d(binary_matrix, filter_horizontal, mode='valid')\n",
    "    vertical = convolve2d(binary_matrix, filter_vertical, mode='valid')\n",
    "    diagonal1 = convolve2d(binary_matrix * np.eye(binary_matrix.shape[0], dtype=int), filter_diagonal1, mode='valid')\n",
    "    diagonal2 = convolve2d(binary_matrix * np.fliplr(np.eye(binary_matrix.shape[0], dtype=int)), filter_diagonal2, mode='valid')\n",
    "\n",
    "    # # Count the number of times the length appears in the convolutions\n",
    "    count = 0\n",
    "    for conv in [horizontal, vertical, diagonal1, diagonal2]:\n",
    "        count += np.count_nonzero(conv == length)\n",
    "    \n",
    "    return count\n",
    "\n",
    "# Calculate max points for this state (which is an impossible case limit)\n",
    "matrix = np.array([[1, -1, -1, 1, -1],\n",
    "                   [-1, -1, -1, -1, 1],\n",
    "                   [0, 0, -1, -1, -1],\n",
    "                   [0, 0, -1, -1, -1],\n",
    "                   [0, 0, -1, 1, 1]])\n",
    "\n",
    "#count5 = count_consecutive(matrix, 0, 5)\n",
    "#print(\"5 consec\", count5)\n",
    "count4 = count_consecutive(matrix, 0, 4) #- count5\n",
    "print(\"4 consec\", count4)\n",
    "count3 = count_consecutive(matrix, 0, 3) - count4 #- count5\n",
    "print('3 consec', count3)\n",
    "count2 = count_consecutive(matrix, 0, 2) - count3 - count4\n",
    "print('2 consec', count2)"
   ]
  },
  {
   "cell_type": "code",
   "execution_count": null,
   "metadata": {},
   "outputs": [],
   "source": [
    "# experiments with matrix rotation with string notation\n",
    "\n",
    "import numpy as np\n",
    "def main():\n",
    "    matrix = np.array([[1, 1, 1, 1, 1],\n",
    "                    [2, 2, 2, 2, 2],\n",
    "                    [3, 3, 3, 3, 3],\n",
    "                    [4, 4, 4, 4, 4],\n",
    "                    [5, 5, 5, 5, 5]])\n",
    "    mat_string = ''.join([''.join([str(x) for x in row]) for row in matrix])\n",
    "    print(mat_string)\n",
    "\n",
    "    \n",
    "    mat_rot = [mat_string[i+5*j] for i in range(5) for j in range(5)]\n",
    "    \n",
    "    \n",
    "    print(''.join(mat_rot))\n",
    "    \n",
    "    # matrix = np.rot90(matrix, 1)\n",
    "    # mat_string = ''.join([''.join([str(x) for x in row]) for row in matrix])\n",
    "    # print(mat_string)\n",
    "    # matrix = np.rot90(matrix, 1)\n",
    "    # mat_string = ''.join([''.join([str(x) for x in row]) for row in matrix])\n",
    "    # print(mat_string)\n",
    "    # matrix = np.rot90(matrix, 1)\n",
    "    # mat_string = ''.join([''.join([str(x) for x in row]) for row in matrix])\n",
    "    # print(mat_string)\n",
    "    \n",
    "main()"
   ]
  },
  {
   "cell_type": "code",
   "execution_count": null,
   "metadata": {},
   "outputs": [],
   "source": [
    "# alternative notation for the states to use strings instead of arrays\n",
    "\n",
    "matrix = np.array([[1, 1, 1, 1, 1],\n",
    "                   [1, 1, -1, 1, 1],\n",
    "                   [1, 1, 1, 1, 1],\n",
    "                   [1, -1, 1, 1, 1],\n",
    "                   [1, 1, 1, -1, 1]])\n",
    "\n",
    "board_str = ''.join([str(cell if cell != -1 else ' ') for cell in matrix.flatten()])\n",
    "print(board_str)"
   ]
  },
  {
   "cell_type": "code",
   "execution_count": null,
   "metadata": {},
   "outputs": [],
   "source": [
    "# parameter calculator\n",
    "\n",
    "from mm_utils import *\n",
    "\n",
    "evaluation = 25 + 24 * E_PLAYER_COUNT_4 + 12 * E_PLAYER_COUNT_3 \n",
    "print(evaluation) # result: 325"
   ]
  }
 ],
 "metadata": {
  "kernelspec": {
   "display_name": ".venv",
   "language": "python",
   "name": "python3"
  },
  "language_info": {
   "codemirror_mode": {
    "name": "ipython",
    "version": 3
   },
   "file_extension": ".py",
   "mimetype": "text/x-python",
   "name": "python",
   "nbconvert_exporter": "python",
   "pygments_lexer": "ipython3",
   "version": "3.11.5"
  }
 },
 "nbformat": 4,
 "nbformat_minor": 2
}
