{
 "cells": [
  {
   "cell_type": "markdown",
   "metadata": {},
   "source": [
    "# Quixo"
   ]
  },
  {
   "cell_type": "code",
   "execution_count": 1,
   "metadata": {},
   "outputs": [],
   "source": [
    "from game import Game\n",
    "from random_player import RandomPlayer\n",
    "from minmax_player import MinmaxPlayer"
   ]
  },
  {
   "cell_type": "markdown",
   "metadata": {},
   "source": [
    "## Random vs Minmax"
   ]
  },
  {
   "cell_type": "code",
   "execution_count": 7,
   "metadata": {},
   "outputs": [
    {
     "name": "stdout",
     "output_type": "stream",
     "text": [
      "❌ ❌ ❌ ❌ ❌ \n",
      "⬜️ ⬜️ ⬜️ ⬜️ ❌ \n",
      "❌ ⬜️ ⬜️ ⬜️ ⭕️ \n",
      "⭕️ ⬜️ ⬜️ ⬜️ ⭕️ \n",
      "⭕️ ⭕️ ❌ ⬜️ ❌ \n",
      "Winner: Player 0\n"
     ]
    }
   ],
   "source": [
    "g = Game()\n",
    "player2 = MinmaxPlayer(1, g.get_board())\n",
    "player1 = RandomPlayer()\n",
    "winner = g.play(player1, player2)\n",
    "g.print()\n",
    "print(f\"Winner: Player {winner}\")"
   ]
  },
  {
   "cell_type": "markdown",
   "metadata": {},
   "source": [
    "## Minmax vs Random\n"
   ]
  },
  {
   "cell_type": "code",
   "execution_count": 8,
   "metadata": {},
   "outputs": [
    {
     "name": "stdout",
     "output_type": "stream",
     "text": [
      "❌ ❌ ❌ ❌ ⭕️ \n",
      "⭕️ ⭕️ ⭕️ ⭕️ ⭕️ \n",
      "⬜️ ⬜️ ⬜️ ⬜️ ❌ \n",
      "❌ ❌ ⬜️ ⭕️ ❌ \n",
      "❌ ❌ ⬜️ ❌ ⭕️ \n",
      "Winner: Player 1\n"
     ]
    }
   ],
   "source": [
    "g = Game()\n",
    "player1 = RandomPlayer()\n",
    "player2 = MinmaxPlayer()\n",
    "winner = g.play(player1, player2)\n",
    "g.print()\n",
    "print(f\"Winner: Player {winner}\")"
   ]
  }
 ],
 "metadata": {
  "kernelspec": {
   "display_name": ".venv",
   "language": "python",
   "name": "python3"
  },
  "language_info": {
   "codemirror_mode": {
    "name": "ipython",
    "version": 3
   },
   "file_extension": ".py",
   "mimetype": "text/x-python",
   "name": "python",
   "nbconvert_exporter": "python",
   "pygments_lexer": "ipython3",
   "version": "3.11.8"
  }
 },
 "nbformat": 4,
 "nbformat_minor": 2
}
