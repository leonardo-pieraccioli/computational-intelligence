{
 "cells": [
  {
   "cell_type": "markdown",
   "metadata": {},
   "source": [
    "# Quixo"
   ]
  },
  {
   "cell_type": "code",
   "execution_count": 2,
   "metadata": {},
   "outputs": [],
   "source": [
    "from game import Game\n",
    "from random_player import RandomPlayer\n",
    "from minmax_player import MinmaxPlayer\n"
   ]
  },
  {
   "cell_type": "markdown",
   "metadata": {},
   "source": [
    "## Random vs Minmax"
   ]
  },
  {
   "cell_type": "code",
   "execution_count": 4,
   "metadata": {},
   "outputs": [
    {
     "name": "stdout",
     "output_type": "stream",
     "text": [
      "Player 0 moved\n",
      "⬜️ ⬜️ ⬜️ ⬜️ ❌ \n",
      "⬜️ ⬜️ ⬜️ ⬜️ ⬜️ \n",
      "⬜️ ⬜️ ⬜️ ⬜️ ⬜️ \n",
      "⬜️ ⬜️ ⬜️ ⬜️ ⬜️ \n",
      "⬜️ ⬜️ ⬜️ ⬜️ ⬜️ \n"
     ]
    },
    {
     "ename": "ValueError",
     "evalue": "The truth value of an array with more than one element is ambiguous. Use a.any() or a.all()",
     "output_type": "error",
     "traceback": [
      "\u001b[1;31m---------------------------------------------------------------------------\u001b[0m",
      "\u001b[1;31mValueError\u001b[0m                                Traceback (most recent call last)",
      "Cell \u001b[1;32mIn[4], line 4\u001b[0m\n\u001b[0;32m      2\u001b[0m player2 \u001b[38;5;241m=\u001b[39m MinmaxPlayer(\u001b[38;5;241m1\u001b[39m)\n\u001b[0;32m      3\u001b[0m player1 \u001b[38;5;241m=\u001b[39m RandomPlayer()\n\u001b[1;32m----> 4\u001b[0m winner \u001b[38;5;241m=\u001b[39m \u001b[43mg\u001b[49m\u001b[38;5;241;43m.\u001b[39;49m\u001b[43mplay\u001b[49m\u001b[43m(\u001b[49m\u001b[43mplayer1\u001b[49m\u001b[43m,\u001b[49m\u001b[43m \u001b[49m\u001b[43mplayer2\u001b[49m\u001b[43m,\u001b[49m\u001b[43m \u001b[49m\u001b[38;5;28;43;01mTrue\u001b[39;49;00m\u001b[43m)\u001b[49m\n\u001b[0;32m      5\u001b[0m g\u001b[38;5;241m.\u001b[39mprint()\n\u001b[0;32m      6\u001b[0m \u001b[38;5;28mprint\u001b[39m(\u001b[38;5;124mf\u001b[39m\u001b[38;5;124m\"\u001b[39m\u001b[38;5;124mWinner: Player \u001b[39m\u001b[38;5;132;01m{\u001b[39;00mwinner\u001b[38;5;132;01m}\u001b[39;00m\u001b[38;5;124m\"\u001b[39m)\n",
      "File \u001b[1;32mc:\\Users\\Leonardo Pieraccioli\\Documents\\Esami\\CI\\computational-intelligence\\Quixo\\game.py:95\u001b[0m, in \u001b[0;36mGame.play\u001b[1;34m(self, player1, player2, watch)\u001b[0m\n\u001b[0;32m     93\u001b[0m ok \u001b[38;5;241m=\u001b[39m \u001b[38;5;28;01mFalse\u001b[39;00m\n\u001b[0;32m     94\u001b[0m \u001b[38;5;28;01mwhile\u001b[39;00m \u001b[38;5;129;01mnot\u001b[39;00m ok:\n\u001b[1;32m---> 95\u001b[0m     from_pos, slide \u001b[38;5;241m=\u001b[39m \u001b[43mplayers\u001b[49m\u001b[43m[\u001b[49m\u001b[43mcurrent_player_idx\u001b[49m\u001b[43m]\u001b[49m\u001b[38;5;241;43m.\u001b[39;49m\u001b[43mmake_move\u001b[49m\u001b[43m(\u001b[49m\u001b[38;5;28;43mself\u001b[39;49m\u001b[43m)\u001b[49m\n\u001b[0;32m     96\u001b[0m     ok \u001b[38;5;241m=\u001b[39m \u001b[38;5;28mself\u001b[39m\u001b[38;5;241m.\u001b[39m__move(from_pos, slide, current_player_idx)\n\u001b[0;32m     97\u001b[0m winner \u001b[38;5;241m=\u001b[39m \u001b[38;5;28mself\u001b[39m\u001b[38;5;241m.\u001b[39mcheck_winner()\n",
      "File \u001b[1;32mc:\\Users\\Leonardo Pieraccioli\\Documents\\Esami\\CI\\computational-intelligence\\Quixo\\minmax_player.py:104\u001b[0m, in \u001b[0;36mMinmaxPlayer.make_move\u001b[1;34m(self, game)\u001b[0m\n\u001b[0;32m    102\u001b[0m \u001b[38;5;28;01mdef\u001b[39;00m \u001b[38;5;21mmake_move\u001b[39m(\u001b[38;5;28mself\u001b[39m, game: \u001b[38;5;124m'\u001b[39m\u001b[38;5;124mGame\u001b[39m\u001b[38;5;124m'\u001b[39m) \u001b[38;5;241m-\u001b[39m\u001b[38;5;241m>\u001b[39m \u001b[38;5;28mtuple\u001b[39m[\u001b[38;5;28mtuple\u001b[39m[\u001b[38;5;28mint\u001b[39m, \u001b[38;5;28mint\u001b[39m], Move]:\n\u001b[0;32m    103\u001b[0m     board \u001b[38;5;241m=\u001b[39m game\u001b[38;5;241m.\u001b[39mget_board()\n\u001b[1;32m--> 104\u001b[0m     g \u001b[38;5;241m=\u001b[39m \u001b[43mGame\u001b[49m\u001b[43m(\u001b[49m\u001b[43mboard\u001b[49m\u001b[43m)\u001b[49m\n\u001b[0;32m    105\u001b[0m     best \u001b[38;5;241m=\u001b[39m \u001b[38;5;28mfloat\u001b[39m(\u001b[38;5;124m\"\u001b[39m\u001b[38;5;124m-inf\u001b[39m\u001b[38;5;124m\"\u001b[39m)\n\u001b[0;32m    106\u001b[0m     best_move \u001b[38;5;241m=\u001b[39m \u001b[38;5;28;01mNone\u001b[39;00m\n",
      "File \u001b[1;32mc:\\Users\\Leonardo Pieraccioli\\Documents\\Esami\\CI\\computational-intelligence\\Quixo\\game.py:34\u001b[0m, in \u001b[0;36mGame.__init__\u001b[1;34m(self, board)\u001b[0m\n\u001b[0;32m     33\u001b[0m \u001b[38;5;28;01mdef\u001b[39;00m \u001b[38;5;21m__init__\u001b[39m(\u001b[38;5;28mself\u001b[39m, board\u001b[38;5;241m=\u001b[39m\u001b[38;5;28;01mNone\u001b[39;00m) \u001b[38;5;241m-\u001b[39m\u001b[38;5;241m>\u001b[39m \u001b[38;5;28;01mNone\u001b[39;00m:\n\u001b[1;32m---> 34\u001b[0m     \u001b[38;5;28;01mif\u001b[39;00m board: \u001b[38;5;28mself\u001b[39m\u001b[38;5;241m.\u001b[39m_board \u001b[38;5;241m=\u001b[39m board\n\u001b[0;32m     35\u001b[0m     \u001b[38;5;28;01melse\u001b[39;00m: \u001b[38;5;28mself\u001b[39m\u001b[38;5;241m.\u001b[39m_board \u001b[38;5;241m=\u001b[39m np\u001b[38;5;241m.\u001b[39mones((\u001b[38;5;241m5\u001b[39m, \u001b[38;5;241m5\u001b[39m), dtype\u001b[38;5;241m=\u001b[39mnp\u001b[38;5;241m.\u001b[39muint8) \u001b[38;5;241m*\u001b[39m \u001b[38;5;241m-\u001b[39m\u001b[38;5;241m1\u001b[39m\n",
      "\u001b[1;31mValueError\u001b[0m: The truth value of an array with more than one element is ambiguous. Use a.any() or a.all()"
     ]
    }
   ],
   "source": [
    "g = Game()\n",
    "player2 = MinmaxPlayer(1)\n",
    "player1 = RandomPlayer()\n",
    "winner = g.play(player1, player2, True)\n",
    "g.print()\n",
    "print(f\"Winner: Player {winner}\")"
   ]
  },
  {
   "cell_type": "markdown",
   "metadata": {},
   "source": [
    "## Minmax vs Random\n"
   ]
  },
  {
   "cell_type": "code",
   "execution_count": null,
   "metadata": {},
   "outputs": [],
   "source": [
    "g = Game()\n",
    "player1 = RandomPlayer()\n",
    "player2 = MinmaxPlayer()\n",
    "winner = g.play(player1, player2, watch=True)\n",
    "g.print()\n",
    "print(f\"Winner: Player {winner}\")"
   ]
  },
  {
   "cell_type": "code",
   "execution_count": null,
   "metadata": {},
   "outputs": [],
   "source": [
    "from game import Move\n",
    "MOVES = {\n",
    "    #corner moves\n",
    "    (0, 0): [Move.BOTTOM, Move.RIGHT],\n",
    "    (0, 4): [Move.BOTTOM, Move.LEFT],\n",
    "    (4, 0): [Move.TOP, Move.RIGHT],\n",
    "    (4, 4): [Move.TOP, Move.LEFT],\n",
    "    \n",
    "    # high border moves\n",
    "    (0, 1): [Move.BOTTOM, Move.RIGHT, Move.LEFT],\n",
    "    (0, 2): [Move.BOTTOM, Move.RIGHT, Move.LEFT],\n",
    "    (0, 3): [Move.BOTTOM, Move.RIGHT, Move.LEFT],\n",
    "    \n",
    "    # low border moves\n",
    "    (4, 1): [Move.TOP, Move.RIGHT, Move.LEFT],\n",
    "    (4, 2): [Move.TOP, Move.RIGHT, Move.LEFT],\n",
    "    (4, 3): [Move.TOP, Move.RIGHT, Move.LEFT],\n",
    "    \n",
    "    # left border moves\n",
    "    (1, 0): [Move.BOTTOM, Move.TOP, Move.RIGHT],\n",
    "    (2, 0): [Move.BOTTOM, Move.TOP, Move.RIGHT],\n",
    "    (3, 0): [Move.BOTTOM, Move.TOP, Move.RIGHT],\n",
    "    \n",
    "    # right border moves\n",
    "    (1, 4): [Move.BOTTOM, Move.TOP, Move.LEFT],\n",
    "    (2, 4): [Move.BOTTOM, Move.TOP, Move.LEFT],\n",
    "    (3, 4): [Move.BOTTOM, Move.TOP, Move.LEFT],\n",
    "}\n",
    "\n",
    "for a, b in MOVES.items():\n",
    "    print(a, b)"
   ]
  },
  {
   "cell_type": "code",
   "execution_count": 29,
   "metadata": {},
   "outputs": [
    {
     "name": "stdout",
     "output_type": "stream",
     "text": [
      "5\n",
      "--- 0.0 seconds ---\n",
      "3\n",
      "--- 0.0009989738464355469 seconds ---\n"
     ]
    }
   ],
   "source": [
    "import numpy as np\n",
    "from scipy.signal import convolve2d\n",
    "import time\n",
    "\n",
    "def count_consecutive(matrix, value, length):\n",
    "    # Create a filter for convolution\n",
    "    filter_horizontal = np.ones((1, length))\n",
    "    filter_vertical = np.ones((length, 1))\n",
    "    filter_diagonal1 = np.eye(length)\n",
    "    filter_diagonal2 = np.fliplr(filter_diagonal1)\n",
    "    \n",
    "    # Create a binary matrix for the given value\n",
    "    binary_matrix = (matrix == value).astype(int)\n",
    "\n",
    "    # Convolve the binary matrix with the filters\n",
    "    horizontal = convolve2d(binary_matrix, filter_horizontal, mode='valid')\n",
    "    vertical = convolve2d(binary_matrix, filter_vertical, mode='valid')\n",
    "    diagonal1 = convolve2d(binary_matrix * np.eye(binary_matrix.shape[0], dtype=int), filter_diagonal1, mode='valid')\n",
    "    diagonal2 = convolve2d(binary_matrix * np.fliplr(np.eye(binary_matrix.shape[0], dtype=int)), filter_diagonal2, mode='valid')\n",
    "\n",
    "    # # Count the number of times the length appears in the convolutions\n",
    "    count = 0\n",
    "    for conv in [horizontal, vertical, diagonal1, diagonal2]:\n",
    "        count += np.count_nonzero(conv == length)\n",
    "    \n",
    "    return count\n",
    "\n",
    "# Test the function\n",
    "matrix = np.array([[1, 0, 1, 1, 1],\n",
    "                   [0, 1, 0, 1, 0],\n",
    "                   [1, 1, 1, 0, 1],\n",
    "                   [0, 0, 0, 0, 1],\n",
    "                   [1, 1, 1, 0, 0]])\n",
    "\n",
    "start_time = time.time()\n",
    "print(count_consecutive(matrix, 1, 3))  # Output: 5\n",
    "print(\"--- %s seconds ---\" % (time.time() - start_time))\n",
    "\n",
    "start_time = time.time()\n",
    "print(count_consecutive(matrix, 0, 3))  # Output: 2\n",
    "print(\"--- %s seconds ---\" % (time.time() - start_time))"
   ]
  }
 ],
 "metadata": {
  "kernelspec": {
   "display_name": ".venv",
   "language": "python",
   "name": "python3"
  },
  "language_info": {
   "codemirror_mode": {
    "name": "ipython",
    "version": 3
   },
   "file_extension": ".py",
   "mimetype": "text/x-python",
   "name": "python",
   "nbconvert_exporter": "python",
   "pygments_lexer": "ipython3",
   "version": "3.11.5"
  }
 },
 "nbformat": 4,
 "nbformat_minor": 2
}
