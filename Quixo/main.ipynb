{
 "cells": [
  {
   "cell_type": "markdown",
   "metadata": {},
   "source": [
    "# Quixo"
   ]
  },
  {
   "cell_type": "code",
   "execution_count": 16,
   "metadata": {},
   "outputs": [],
   "source": [
    "from game import Game\n",
    "from random_player import RandomPlayer\n",
    "from minmax_player import MinmaxPlayer\n"
   ]
  },
  {
   "cell_type": "markdown",
   "metadata": {},
   "source": [
    "## Random vs Minmax"
   ]
  },
  {
   "cell_type": "code",
   "execution_count": 17,
   "metadata": {},
   "outputs": [
    {
     "name": "stdout",
     "output_type": "stream",
     "text": [
      "⬜️ ⬜️ ⬜️ ⬜️ ❌ \n",
      "⬜️ ⬜️ ⬜️ ⬜️ ⬜️ \n",
      "⬜️ ⬜️ ⬜️ ⬜️ ⬜️ \n",
      "⬜️ ⬜️ ⬜️ ⬜️ ⬜️ \n",
      "⬜️ ⬜️ ⬜️ ⬜️ ⬜️ \n",
      "Player 0 moved\n"
     ]
    },
    {
     "ename": "TypeError",
     "evalue": "MinmaxPlayer.__count_consecutive() takes 3 positional arguments but 4 were given",
     "output_type": "error",
     "traceback": [
      "\u001b[1;31m---------------------------------------------------------------------------\u001b[0m",
      "\u001b[1;31mTypeError\u001b[0m                                 Traceback (most recent call last)",
      "Cell \u001b[1;32mIn[17], line 4\u001b[0m\n\u001b[0;32m      2\u001b[0m player2 \u001b[38;5;241m=\u001b[39m MinmaxPlayer(\u001b[38;5;241m1\u001b[39m)\n\u001b[0;32m      3\u001b[0m player1 \u001b[38;5;241m=\u001b[39m RandomPlayer()\n\u001b[1;32m----> 4\u001b[0m winner \u001b[38;5;241m=\u001b[39m \u001b[43mg\u001b[49m\u001b[38;5;241;43m.\u001b[39;49m\u001b[43mplay\u001b[49m\u001b[43m(\u001b[49m\u001b[43mplayer1\u001b[49m\u001b[43m,\u001b[49m\u001b[43m \u001b[49m\u001b[43mplayer2\u001b[49m\u001b[43m,\u001b[49m\u001b[43m \u001b[49m\u001b[38;5;28;43;01mTrue\u001b[39;49;00m\u001b[43m)\u001b[49m\n\u001b[0;32m      5\u001b[0m g\u001b[38;5;241m.\u001b[39mprint()\n\u001b[0;32m      6\u001b[0m \u001b[38;5;28mprint\u001b[39m(\u001b[38;5;124mf\u001b[39m\u001b[38;5;124m\"\u001b[39m\u001b[38;5;124mWinner: Player \u001b[39m\u001b[38;5;132;01m{\u001b[39;00mwinner\u001b[38;5;132;01m}\u001b[39;00m\u001b[38;5;124m\"\u001b[39m)\n",
      "File \u001b[1;32mc:\\Users\\Leonardo Pieraccioli\\Documents\\Esami\\CI\\computational-intelligence\\Quixo\\game.py:96\u001b[0m, in \u001b[0;36mGame.play\u001b[1;34m(self, player1, player2, watch)\u001b[0m\n\u001b[0;32m     94\u001b[0m ok \u001b[38;5;241m=\u001b[39m \u001b[38;5;28;01mFalse\u001b[39;00m\n\u001b[0;32m     95\u001b[0m \u001b[38;5;28;01mwhile\u001b[39;00m \u001b[38;5;129;01mnot\u001b[39;00m ok:\n\u001b[1;32m---> 96\u001b[0m     from_pos, slide \u001b[38;5;241m=\u001b[39m \u001b[43mplayers\u001b[49m\u001b[43m[\u001b[49m\u001b[43mcurrent_player_idx\u001b[49m\u001b[43m]\u001b[49m\u001b[38;5;241;43m.\u001b[39;49m\u001b[43mmake_move\u001b[49m\u001b[43m(\u001b[49m\u001b[38;5;28;43mself\u001b[39;49m\u001b[43m)\u001b[49m\n\u001b[0;32m     97\u001b[0m     ok \u001b[38;5;241m=\u001b[39m \u001b[38;5;28mself\u001b[39m\u001b[38;5;241m.\u001b[39mmove(from_pos, slide, current_player_idx)\n\u001b[0;32m     98\u001b[0m winner \u001b[38;5;241m=\u001b[39m \u001b[38;5;28mself\u001b[39m\u001b[38;5;241m.\u001b[39mcheck_winner()\n",
      "File \u001b[1;32mc:\\Users\\Leonardo Pieraccioli\\Documents\\Esami\\CI\\computational-intelligence\\Quixo\\minmax_player.py:125\u001b[0m, in \u001b[0;36mMinmaxPlayer.make_move\u001b[1;34m(self, game)\u001b[0m\n\u001b[0;32m    123\u001b[0m \u001b[38;5;28;01massert\u001b[39;00m ok \u001b[38;5;241m==\u001b[39m \u001b[38;5;28;01mTrue\u001b[39;00m, \u001b[38;5;124mf\u001b[39m\u001b[38;5;124m'\u001b[39m\u001b[38;5;124mInvalid move, cell: \u001b[39m\u001b[38;5;132;01m{\u001b[39;00mpiece\u001b[38;5;132;01m}\u001b[39;00m\u001b[38;5;124m move: \u001b[39m\u001b[38;5;132;01m{\u001b[39;00mslide\u001b[38;5;132;01m}\u001b[39;00m\u001b[38;5;124m something is wrong with the MOVES array.\u001b[39m\u001b[38;5;124m'\u001b[39m\n\u001b[0;32m    124\u001b[0m prev_board \u001b[38;5;241m=\u001b[39m deepcopy(board)\n\u001b[1;32m--> 125\u001b[0m evaluation \u001b[38;5;241m=\u001b[39m \u001b[38;5;28;43mself\u001b[39;49m\u001b[38;5;241;43m.\u001b[39;49m\u001b[43m__minmax\u001b[49m\u001b[43m(\u001b[49m\u001b[38;5;28;43mself\u001b[39;49m\u001b[38;5;241;43m.\u001b[39;49m\u001b[43m_max_depth\u001b[49m\u001b[43m,\u001b[49m\u001b[43m \u001b[49m\u001b[38;5;241;43m1\u001b[39;49m\u001b[43m \u001b[49m\u001b[38;5;241;43m-\u001b[39;49m\u001b[43m \u001b[49m\u001b[38;5;28;43mself\u001b[39;49m\u001b[38;5;241;43m.\u001b[39;49m\u001b[43m_player_id\u001b[49m\u001b[43m,\u001b[49m\u001b[43m \u001b[49m\u001b[43mgame\u001b[49m\u001b[43m)\u001b[49m\n\u001b[0;32m    126\u001b[0m game\u001b[38;5;241m.\u001b[39mundo(prev_board)\n\u001b[0;32m    127\u001b[0m \u001b[38;5;66;03m# print(\"Depth: 0, Mossa annullata\")\u001b[39;00m\n\u001b[0;32m    128\u001b[0m \u001b[38;5;66;03m# game.print()\u001b[39;00m\n",
      "File \u001b[1;32mc:\\Users\\Leonardo Pieraccioli\\Documents\\Esami\\CI\\computational-intelligence\\Quixo\\minmax_player.py:157\u001b[0m, in \u001b[0;36mMinmaxPlayer.__minmax\u001b[1;34m(self, depth, current_player_id, game)\u001b[0m\n\u001b[0;32m    155\u001b[0m \u001b[38;5;28;01massert\u001b[39;00m ok \u001b[38;5;241m==\u001b[39m \u001b[38;5;28;01mTrue\u001b[39;00m, \u001b[38;5;124mf\u001b[39m\u001b[38;5;124m'\u001b[39m\u001b[38;5;124mInvalid move, cell: \u001b[39m\u001b[38;5;132;01m{\u001b[39;00mpiece\u001b[38;5;132;01m}\u001b[39;00m\u001b[38;5;124m move: \u001b[39m\u001b[38;5;132;01m{\u001b[39;00mslide\u001b[38;5;132;01m}\u001b[39;00m\u001b[38;5;124m'\u001b[39m\n\u001b[0;32m    156\u001b[0m prev_board \u001b[38;5;241m=\u001b[39m deepcopy(board)\n\u001b[1;32m--> 157\u001b[0m evaluation \u001b[38;5;241m=\u001b[39m \u001b[38;5;28;43mself\u001b[39;49m\u001b[38;5;241;43m.\u001b[39;49m\u001b[43m__minmax\u001b[49m\u001b[43m(\u001b[49m\u001b[43mdepth\u001b[49m\u001b[43m \u001b[49m\u001b[38;5;241;43m-\u001b[39;49m\u001b[43m \u001b[49m\u001b[38;5;241;43m1\u001b[39;49m\u001b[43m,\u001b[49m\u001b[43m \u001b[49m\u001b[43mother_player\u001b[49m\u001b[43m,\u001b[49m\u001b[43m \u001b[49m\u001b[43mgame\u001b[49m\u001b[43m)\u001b[49m\n\u001b[0;32m    159\u001b[0m game\u001b[38;5;241m.\u001b[39mundo(prev_board)\n\u001b[0;32m    160\u001b[0m \u001b[38;5;66;03m# print(f\"Depth: {depth}, Mossa annullata: {piece} {slide}\")\u001b[39;00m\n\u001b[0;32m    161\u001b[0m \u001b[38;5;66;03m# game.print()\u001b[39;00m\n",
      "File \u001b[1;32mc:\\Users\\Leonardo Pieraccioli\\Documents\\Esami\\CI\\computational-intelligence\\Quixo\\minmax_player.py:157\u001b[0m, in \u001b[0;36mMinmaxPlayer.__minmax\u001b[1;34m(self, depth, current_player_id, game)\u001b[0m\n\u001b[0;32m    155\u001b[0m \u001b[38;5;28;01massert\u001b[39;00m ok \u001b[38;5;241m==\u001b[39m \u001b[38;5;28;01mTrue\u001b[39;00m, \u001b[38;5;124mf\u001b[39m\u001b[38;5;124m'\u001b[39m\u001b[38;5;124mInvalid move, cell: \u001b[39m\u001b[38;5;132;01m{\u001b[39;00mpiece\u001b[38;5;132;01m}\u001b[39;00m\u001b[38;5;124m move: \u001b[39m\u001b[38;5;132;01m{\u001b[39;00mslide\u001b[38;5;132;01m}\u001b[39;00m\u001b[38;5;124m'\u001b[39m\n\u001b[0;32m    156\u001b[0m prev_board \u001b[38;5;241m=\u001b[39m deepcopy(board)\n\u001b[1;32m--> 157\u001b[0m evaluation \u001b[38;5;241m=\u001b[39m \u001b[38;5;28;43mself\u001b[39;49m\u001b[38;5;241;43m.\u001b[39;49m\u001b[43m__minmax\u001b[49m\u001b[43m(\u001b[49m\u001b[43mdepth\u001b[49m\u001b[43m \u001b[49m\u001b[38;5;241;43m-\u001b[39;49m\u001b[43m \u001b[49m\u001b[38;5;241;43m1\u001b[39;49m\u001b[43m,\u001b[49m\u001b[43m \u001b[49m\u001b[43mother_player\u001b[49m\u001b[43m,\u001b[49m\u001b[43m \u001b[49m\u001b[43mgame\u001b[49m\u001b[43m)\u001b[49m\n\u001b[0;32m    159\u001b[0m game\u001b[38;5;241m.\u001b[39mundo(prev_board)\n\u001b[0;32m    160\u001b[0m \u001b[38;5;66;03m# print(f\"Depth: {depth}, Mossa annullata: {piece} {slide}\")\u001b[39;00m\n\u001b[0;32m    161\u001b[0m \u001b[38;5;66;03m# game.print()\u001b[39;00m\n",
      "File \u001b[1;32mc:\\Users\\Leonardo Pieraccioli\\Documents\\Esami\\CI\\computational-intelligence\\Quixo\\minmax_player.py:142\u001b[0m, in \u001b[0;36mMinmaxPlayer.__minmax\u001b[1;34m(self, depth, current_player_id, game)\u001b[0m\n\u001b[0;32m    140\u001b[0m winner \u001b[38;5;241m=\u001b[39m \u001b[38;5;28mself\u001b[39m\u001b[38;5;241m.\u001b[39m__check_winner(board)\n\u001b[0;32m    141\u001b[0m \u001b[38;5;28;01mif\u001b[39;00m depth \u001b[38;5;241m==\u001b[39m \u001b[38;5;241m0\u001b[39m \u001b[38;5;129;01mor\u001b[39;00m winner \u001b[38;5;241m!=\u001b[39m \u001b[38;5;241m-\u001b[39m\u001b[38;5;241m1\u001b[39m:\n\u001b[1;32m--> 142\u001b[0m     \u001b[38;5;28;01mreturn\u001b[39;00m \u001b[38;5;28;43mself\u001b[39;49m\u001b[38;5;241;43m.\u001b[39;49m\u001b[43m__evaluate\u001b[49m\u001b[43m(\u001b[49m\u001b[43mwinner\u001b[49m\u001b[43m,\u001b[49m\u001b[43m \u001b[49m\u001b[43mboard\u001b[49m\u001b[43m)\u001b[49m\n\u001b[0;32m    144\u001b[0m other_player \u001b[38;5;241m=\u001b[39m \u001b[38;5;241m1\u001b[39m \u001b[38;5;241m-\u001b[39m current_player_id\n\u001b[0;32m    145\u001b[0m best \u001b[38;5;241m=\u001b[39m \u001b[38;5;28mfloat\u001b[39m(\u001b[38;5;124m\"\u001b[39m\u001b[38;5;124m-inf\u001b[39m\u001b[38;5;124m\"\u001b[39m) \u001b[38;5;28;01mif\u001b[39;00m current_player_id \u001b[38;5;241m==\u001b[39m \u001b[38;5;28mself\u001b[39m\u001b[38;5;241m.\u001b[39m_player_id \u001b[38;5;28;01melse\u001b[39;00m \u001b[38;5;28mfloat\u001b[39m(\u001b[38;5;124m\"\u001b[39m\u001b[38;5;124minf\u001b[39m\u001b[38;5;124m\"\u001b[39m)\n",
      "File \u001b[1;32mc:\\Users\\Leonardo Pieraccioli\\Documents\\Esami\\CI\\computational-intelligence\\Quixo\\minmax_player.py:187\u001b[0m, in \u001b[0;36mMinmaxPlayer.__evaluate\u001b[1;34m(self, winner, board)\u001b[0m\n\u001b[0;32m    184\u001b[0m player_pieces \u001b[38;5;241m=\u001b[39m (board \u001b[38;5;241m==\u001b[39m \u001b[38;5;28mself\u001b[39m\u001b[38;5;241m.\u001b[39m_player_id)\u001b[38;5;241m.\u001b[39msum()\n\u001b[0;32m    186\u001b[0m \u001b[38;5;66;03m# evalutation 2: count the number of pieces in a row/column/diagonal for the player\u001b[39;00m\n\u001b[1;32m--> 187\u001b[0m count4 \u001b[38;5;241m=\u001b[39m \u001b[38;5;28;43mself\u001b[39;49m\u001b[38;5;241;43m.\u001b[39;49m\u001b[43m__count_consecutive\u001b[49m\u001b[43m(\u001b[49m\u001b[43mboard\u001b[49m\u001b[43m,\u001b[49m\u001b[43m \u001b[49m\u001b[38;5;28;43mself\u001b[39;49m\u001b[38;5;241;43m.\u001b[39;49m\u001b[43m_player_id\u001b[49m\u001b[43m,\u001b[49m\u001b[43m \u001b[49m\u001b[38;5;241;43m4\u001b[39;49m\u001b[43m)\u001b[49m\n\u001b[0;32m    188\u001b[0m count3 \u001b[38;5;241m=\u001b[39m \u001b[38;5;28mself\u001b[39m\u001b[38;5;241m.\u001b[39m__count_consecutive(board, \u001b[38;5;28mself\u001b[39m\u001b[38;5;241m.\u001b[39m_player_id, \u001b[38;5;241m3\u001b[39m) \u001b[38;5;241m-\u001b[39m count4\n\u001b[0;32m    190\u001b[0m \u001b[38;5;66;03m# evaluation 3: count the number of pieces in a row/column/diagonal for the opponent\u001b[39;00m\n",
      "\u001b[1;31mTypeError\u001b[0m: MinmaxPlayer.__count_consecutive() takes 3 positional arguments but 4 were given"
     ]
    }
   ],
   "source": [
    "g = Game()\n",
    "player2 = MinmaxPlayer(1)\n",
    "player1 = RandomPlayer()\n",
    "winner = g.play(player1, player2, True)\n",
    "g.print()\n",
    "print(f\"Winner: Player {winner}\")"
   ]
  },
  {
   "cell_type": "markdown",
   "metadata": {},
   "source": [
    "## Minmax vs Random\n"
   ]
  },
  {
   "cell_type": "code",
   "execution_count": null,
   "metadata": {},
   "outputs": [],
   "source": [
    "g = Game()\n",
    "player1 = RandomPlayer()\n",
    "player2 = MinmaxPlayer()\n",
    "winner = g.play(player1, player2, watch=True)\n",
    "g.print()\n",
    "print(f\"Winner: Player {winner}\")"
   ]
  },
  {
   "cell_type": "code",
   "execution_count": null,
   "metadata": {},
   "outputs": [],
   "source": [
    "# array of all the possible moves for each position\n",
    "\n",
    "from game import Move\n",
    "MOVES = {\n",
    "    #corner moves\n",
    "    (0, 0): [Move.BOTTOM, Move.RIGHT],\n",
    "    (0, 4): [Move.BOTTOM, Move.LEFT],\n",
    "    (4, 0): [Move.TOP, Move.RIGHT],\n",
    "    (4, 4): [Move.TOP, Move.LEFT],\n",
    "    \n",
    "    # high border moves\n",
    "    (0, 1): [Move.BOTTOM, Move.RIGHT, Move.LEFT],\n",
    "    (0, 2): [Move.BOTTOM, Move.RIGHT, Move.LEFT],\n",
    "    (0, 3): [Move.BOTTOM, Move.RIGHT, Move.LEFT],\n",
    "    \n",
    "    # low border moves\n",
    "    (4, 1): [Move.TOP, Move.RIGHT, Move.LEFT],\n",
    "    (4, 2): [Move.TOP, Move.RIGHT, Move.LEFT],\n",
    "    (4, 3): [Move.TOP, Move.RIGHT, Move.LEFT],\n",
    "    \n",
    "    # left border moves\n",
    "    (1, 0): [Move.BOTTOM, Move.TOP, Move.RIGHT],\n",
    "    (2, 0): [Move.BOTTOM, Move.TOP, Move.RIGHT],\n",
    "    (3, 0): [Move.BOTTOM, Move.TOP, Move.RIGHT],\n",
    "    \n",
    "    # right border moves\n",
    "    (1, 4): [Move.BOTTOM, Move.TOP, Move.LEFT],\n",
    "    (2, 4): [Move.BOTTOM, Move.TOP, Move.LEFT],\n",
    "    (3, 4): [Move.BOTTOM, Move.TOP, Move.LEFT],\n",
    "}\n",
    "\n",
    "for a, b in MOVES.items():\n",
    "    print(a, b)"
   ]
  },
  {
   "cell_type": "code",
   "execution_count": 42,
   "metadata": {},
   "outputs": [
    {
     "name": "stdout",
     "output_type": "stream",
     "text": [
      "5 consec 12\n",
      "4 consec 12\n",
      "3 consec 12\n",
      "2 consec 24\n"
     ]
    }
   ],
   "source": [
    "# function to count the number of consecutive pieces in the board\n",
    "\n",
    "import numpy as np\n",
    "from scipy.signal import convolve2d\n",
    "import time\n",
    "\n",
    "def count_consecutive(matrix, value, length):\n",
    "    # Create a filter for convolution\n",
    "    filter_horizontal = np.ones((1, length))\n",
    "    filter_vertical = np.ones((length, 1))\n",
    "    filter_diagonal1 = np.eye(length)\n",
    "    filter_diagonal2 = np.fliplr(filter_diagonal1)\n",
    "    \n",
    "    # Create a binary matrix for the given value\n",
    "    binary_matrix = (matrix == value).astype(int)\n",
    "\n",
    "    # Convolve the binary matrix with the filters\n",
    "    horizontal = convolve2d(binary_matrix, filter_horizontal, mode='valid')\n",
    "    vertical = convolve2d(binary_matrix, filter_vertical, mode='valid')\n",
    "    diagonal1 = convolve2d(binary_matrix * np.eye(binary_matrix.shape[0], dtype=int), filter_diagonal1, mode='valid')\n",
    "    diagonal2 = convolve2d(binary_matrix * np.fliplr(np.eye(binary_matrix.shape[0], dtype=int)), filter_diagonal2, mode='valid')\n",
    "\n",
    "    # # Count the number of times the length appears in the convolutions\n",
    "    count = 0\n",
    "    for conv in [horizontal, vertical, diagonal1, diagonal2]:\n",
    "        count += np.count_nonzero(conv == length)\n",
    "    \n",
    "    return count\n",
    "\n",
    "# Calculate max points for this state (which is an impossible case limit)\n",
    "matrix = np.array([[1, 1, 1, 1, 1],\n",
    "                   [1, 1, 1, 1, 1],\n",
    "                   [1, 1, 1, 1, 1],\n",
    "                   [1, 1, 1, 1, 1],\n",
    "                   [1, 1, 1, 1, 1]])\n",
    "\n",
    "count5 = count_consecutive(matrix, 1, 5)\n",
    "print(\"5 consec\", count5)\n",
    "count4 = count_consecutive(matrix, 1, 4) #- count5\n",
    "print(\"4 consec\", count4)\n",
    "count3 = count_consecutive(matrix, 1, 3) #- count4 - count5\n",
    "print('3 consec', count3)\n",
    "count2 = count_consecutive(matrix, 1, 2) #- count3 - count4\n",
    "print('2 consec', count2)"
   ]
  },
  {
   "cell_type": "code",
   "execution_count": 30,
   "metadata": {},
   "outputs": [
    {
     "name": "stdout",
     "output_type": "stream",
     "text": [
      "1111122222333334444455555\n",
      "1234512345123451234512345\n"
     ]
    }
   ],
   "source": [
    "# experiments with matrix rotation with string notation\n",
    "\n",
    "import numpy as np\n",
    "def main():\n",
    "    matrix = np.array([[1, 1, 1, 1, 1],\n",
    "                    [2, 2, 2, 2, 2],\n",
    "                    [3, 3, 3, 3, 3],\n",
    "                    [4, 4, 4, 4, 4],\n",
    "                    [5, 5, 5, 5, 5]])\n",
    "    mat_string = ''.join([''.join([str(x) for x in row]) for row in matrix])\n",
    "    print(mat_string)\n",
    "\n",
    "    \n",
    "    mat_rot = [mat_string[i+5*j] for i in range(5) for j in range(5)]\n",
    "    \n",
    "    \n",
    "    print(''.join(mat_rot))\n",
    "    \n",
    "    # matrix = np.rot90(matrix, 1)\n",
    "    # mat_string = ''.join([''.join([str(x) for x in row]) for row in matrix])\n",
    "    # print(mat_string)\n",
    "    # matrix = np.rot90(matrix, 1)\n",
    "    # mat_string = ''.join([''.join([str(x) for x in row]) for row in matrix])\n",
    "    # print(mat_string)\n",
    "    # matrix = np.rot90(matrix, 1)\n",
    "    # mat_string = ''.join([''.join([str(x) for x in row]) for row in matrix])\n",
    "    # print(mat_string)\n",
    "    \n",
    "main()"
   ]
  },
  {
   "cell_type": "code",
   "execution_count": 33,
   "metadata": {},
   "outputs": [
    {
     "name": "stdout",
     "output_type": "stream",
     "text": [
      "1111111 11111111 111111 1\n"
     ]
    }
   ],
   "source": [
    "# alternative notation for the states to use strings instead of arrays\n",
    "\n",
    "matrix = np.array([[1, 1, 1, 1, 1],\n",
    "                   [1, 1, -1, 1, 1],\n",
    "                   [1, 1, 1, 1, 1],\n",
    "                   [1, -1, 1, 1, 1],\n",
    "                   [1, 1, 1, -1, 1]])\n",
    "\n",
    "board_str = ''.join([str(cell if cell != -1 else ' ') for cell in matrix.flatten()])\n",
    "print(board_str)"
   ]
  },
  {
   "cell_type": "code",
   "execution_count": null,
   "metadata": {},
   "outputs": [],
   "source": [
    "# parameter calculator\n",
    "\n",
    "from mm_utils import *\n",
    "\n",
    "evaluation = 25 + 24 * E_PLAYER_COUNT_4 + 12 * E_PLAYER_COUNT_3 \n",
    "print(evaluation) # result: 325"
   ]
  }
 ],
 "metadata": {
  "kernelspec": {
   "display_name": ".venv",
   "language": "python",
   "name": "python3"
  },
  "language_info": {
   "codemirror_mode": {
    "name": "ipython",
    "version": 3
   },
   "file_extension": ".py",
   "mimetype": "text/x-python",
   "name": "python",
   "nbconvert_exporter": "python",
   "pygments_lexer": "ipython3",
   "version": "3.11.5"
  }
 },
 "nbformat": 4,
 "nbformat_minor": 2
}
