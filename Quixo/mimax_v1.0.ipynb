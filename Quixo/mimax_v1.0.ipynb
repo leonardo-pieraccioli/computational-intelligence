{
 "cells": [
  {
   "cell_type": "markdown",
   "metadata": {},
   "source": [
    "# V 1.0\n",
    "\n",
    "No alpha-beta pruning, basic evaluation\n",
    "\n",
    "## Evaluation\n",
    "Each state is saved in a dictionary with the key being the state and the value being the evaluation of the state. This is initialized at the start of a game. The evaluation is done by the following rules:\n",
    "- if the state is final the evaluation is 30 for a win, and -30 for a loss.\n",
    "- if the state is not final, it receives a point for each piece of the player.\n",
    "\n",
    "This is very simplified and it is the first thing that I will improve in the next version."
   ]
  },
  {
   "cell_type": "markdown",
   "metadata": {},
   "source": [
    "## Depth 2: \n",
    "\n",
    "> Average match duration: 34 seconds \n",
    "\n",
    "Of course the algorithm is very slow. In this version I'm mainly searching for bugs to fix, then I will improve the evaluation and add alpha-beta pruning. It is also a way to have a baseline to compare the next versions.\n",
    "\n",
    "> Win rate when minmax is the first player: 100%\n",
    "\n",
    "> Win rate when minmax is the second player: 90%\n",
    "\n",
    "> Win rate against itself: 100%"
   ]
  },
  {
   "cell_type": "code",
   "execution_count": null,
   "metadata": {},
   "outputs": [],
   "source": [
    "from game import Game\n",
    "from random_player import RandomPlayer\n",
    "from minmax_player import MinmaxPlayer\n",
    "import time as t\n",
    "import tqdm.auto as tqdm\n",
    "\n",
    "start_time = t.time()\n",
    "NUM_GAMES = 10\n",
    "win = [0, 0]"
   ]
  },
  {
   "cell_type": "code",
   "execution_count": null,
   "metadata": {},
   "outputs": [],
   "source": [
    "with tqdm.trange(NUM_GAMES) as pbar:\n",
    "    for _ in range(NUM_GAMES):\n",
    "        g = Game()\n",
    "        winner = g.play(MinmaxPlayer(0), MinmaxPlayer(1))\n",
    "        win[winner] += 1\n",
    "        pbar.update(1)\n",
    "\n",
    "win_rate = win[0] / NUM_GAMES\n",
    "win_rate"
   ]
  },
  {
   "cell_type": "code",
   "execution_count": null,
   "metadata": {},
   "outputs": [],
   "source": [
    "with tqdm.trange(NUM_GAMES) as pbar:\n",
    "    for _ in range(NUM_GAMES):\n",
    "        g = Game()\n",
    "        winner = g.play(MinmaxPlayer(0), RandomPlayer())\n",
    "        win[winner] += 1\n",
    "        pbar.update(1)\n",
    "\n",
    "win_rate = win[0] / NUM_GAMES\n",
    "win_rate\n",
    "\n",
    "win = [0, 0]\n",
    "with tqdm.trange(NUM_GAMES) as pbar:\n",
    "    for _ in range(10):\n",
    "        g = Game()\n",
    "        winner = g.play(RandomPlayer(), MinmaxPlayer(1))\n",
    "        win[winner] += 1\n",
    "        pbar.update(1)\n",
    "\n",
    "win_rate = win[1] / NUM_GAMES\n",
    "win_rate\n",
    "\n",
    "f\"Elapsed time: {t.time() - start_time}\"\n"
   ]
  },
  {
   "cell_type": "markdown",
   "metadata": {},
   "source": [
    "## Depth 3\n",
    "\n",
    "> Average match duration: more than 10 minutes\n",
    "\n",
    "Already at depth 3 the algorithm is too slow."
   ]
  },
  {
   "cell_type": "code",
   "execution_count": null,
   "metadata": {},
   "outputs": [],
   "source": [
    "from game import Game\n",
    "from random_player import RandomPlayer\n",
    "from minmax_player import MinmaxPlayer\n",
    "import time as t\n",
    "\n",
    "start_time = t.time()\n",
    "NUM_GAMES = 1\n",
    "win = [0, 0]\n",
    "\n",
    "for _ in range(NUM_GAMES):\n",
    "    g = Game()\n",
    "    winner = g.play(MinmaxPlayer(0, 3), RandomPlayer())\n",
    "    win[winner] += 1\n",
    "\n",
    "f\"Player 0 win rate: {win[0] / NUM_GAMES}\"\n",
    "\n",
    "win = [0, 0]\n",
    "for _ in range(10):\n",
    "    g = Game()\n",
    "    winner = g.play(RandomPlayer(), MinmaxPlayer(1, 3))\n",
    "    win[winner] += 1\n",
    "\n",
    "f\"Player 1 win rate: {win[1] / NUM_GAMES}\"\n",
    "\n",
    "f\"Elapsed time: {t.time() - start_time}\"\n"
   ]
  }
 ],
 "metadata": {
  "kernelspec": {
   "display_name": ".venv",
   "language": "python",
   "name": "python3"
  },
  "language_info": {
   "codemirror_mode": {
    "name": "ipython",
    "version": 3
   },
   "file_extension": ".py",
   "mimetype": "text/x-python",
   "name": "python",
   "nbconvert_exporter": "python",
   "pygments_lexer": "ipython3",
   "version": "3.11.5"
  }
 },
 "nbformat": 4,
 "nbformat_minor": 2
}
