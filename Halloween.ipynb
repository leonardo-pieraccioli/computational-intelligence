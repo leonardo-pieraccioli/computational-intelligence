{
 "cells": [
  {
   "cell_type": "markdown",
   "id": "185f9931-b384-4fdc-a5b2-eea785428bb8",
   "metadata": {},
   "source": [
    "Copyright **`(c)`** 2023 Giovanni Squillero `<giovanni.squillero@polito.it>`  \n",
    "[`https://github.com/squillero/computational-intelligence`](https://github.com/squillero/computational-intelligence)  \n",
    "Free for personal or classroom use; see [`LICENSE.md`](https://github.com/squillero/computational-intelligence/blob/master/LICENSE.md) for details.  "
   ]
  },
  {
   "cell_type": "code",
   "execution_count": 135,
   "id": "3ffe7245-e849-41d0-9698-5f0e0b83fee9",
   "metadata": {},
   "outputs": [],
   "source": [
    "from itertools import product\n",
    "from random import random, randint, shuffle, seed\n",
    "import numpy as np\n",
    "from scipy import sparse\n",
    "from copy import copy\n",
    "from functools import reduce\n",
    "from random import choice"
   ]
  },
  {
   "cell_type": "code",
   "execution_count": 136,
   "id": "47647ef4",
   "metadata": {},
   "outputs": [],
   "source": [
    "# function that prints sets in a human readable way\n",
    "def print_solution(solution, sets):\n",
    "    \n",
    "    for i, is_set_covered in enumerate(solution):\n",
    "        if is_set_covered:\n",
    "            print('Set', i+1, ': ', end='')\n",
    "            for element_taken in sets.toarray()[i]:\n",
    "                if(element_taken): print('x', end='')\n",
    "                else: print('-', end='')\n",
    "            print()\n"
   ]
  },
  {
   "cell_type": "code",
   "execution_count": 137,
   "id": "6f03bd67-78a0-4d72-95b7-77a918727b91",
   "metadata": {},
   "outputs": [],
   "source": [
    "def make_set_covering_problem(num_points, num_sets, density):\n",
    "    \"\"\"Returns a sparse array where rows are sets and columns are the covered items\"\"\"\n",
    "    seed(num_points*2654435761+num_sets+density)\n",
    "    sets = sparse.lil_array((num_sets, num_points), dtype=bool)\n",
    "    for s, p in product(range(num_sets), range(num_points)):\n",
    "        if random() < density:\n",
    "            sets[s, p] = True\n",
    "    for p in range(num_points):\n",
    "        sets[randint(0, num_sets-1), p] = True\n",
    "    return sets"
   ]
  },
  {
   "cell_type": "markdown",
   "id": "82b0be37-21d9-492d-9a1d-cf0cdf0ddd76",
   "metadata": {},
   "source": [
    "# Halloween Challenge\n",
    "\n",
    "Find the best solution with the fewest calls to the fitness functions for:\n",
    "\n",
    "* `num_points = [100, 1_000, 5_000]`\n",
    "* `num_sets = num_points`\n",
    "* `density = [.3, .7]` "
   ]
  },
  {
   "cell_type": "code",
   "execution_count": 138,
   "id": "221ffdba-5d3d-48cc-bd08-45ccc9366ea6",
   "metadata": {},
   "outputs": [],
   "source": [
    "# x = make_set_covering_problem(1000, 1000, .3)\n",
    "# print(\"Element at row=42 and column=42:\", x[42, 42])"
   ]
  },
  {
   "cell_type": "code",
   "execution_count": 139,
   "id": "6492337b-8429-472d-9c3e-c79c5b46da54",
   "metadata": {},
   "outputs": [],
   "source": [
    "x1 = make_set_covering_problem(100, 100, .3)"
   ]
  },
  {
   "cell_type": "code",
   "execution_count": 140,
   "id": "a07bfb46",
   "metadata": {},
   "outputs": [],
   "source": [
    "x2 = make_set_covering_problem(1000, 1000, .3)"
   ]
  },
  {
   "cell_type": "code",
   "execution_count": 141,
   "id": "3dbb2888",
   "metadata": {},
   "outputs": [
    {
     "name": "stdout",
     "output_type": "stream",
     "text": [
      "Unexpected exception formatting exception. Falling back to standard exception\n"
     ]
    },
    {
     "name": "stderr",
     "output_type": "stream",
     "text": [
      "Traceback (most recent call last):\n",
      "  File \"c:\\Users\\Leonardo Pieraccioli\\Documents\\Esami\\CI\\computational-intelligence\\.venv\\Lib\\site-packages\\IPython\\core\\interactiveshell.py\", line 3526, in run_code\n",
      "    exec(code_obj, self.user_global_ns, self.user_ns)\n",
      "  File \"C:\\Users\\Leonardo Pieraccioli\\AppData\\Local\\Temp\\ipykernel_5516\\1670192213.py\", line 1, in <module>\n",
      "    x3 = make_set_covering_problem(5000, 5000, .3)\n",
      "         ^^^^^^^^^^^^^^^^^^^^^^^^^^^^^^^^^^^^^^^^^\n",
      "  File \"C:\\Users\\Leonardo Pieraccioli\\AppData\\Local\\Temp\\ipykernel_5516\\1353256190.py\", line -1, in make_set_covering_problem\n",
      "KeyboardInterrupt\n",
      "\n",
      "During handling of the above exception, another exception occurred:\n",
      "\n",
      "Traceback (most recent call last):\n",
      "  File \"c:\\Users\\Leonardo Pieraccioli\\Documents\\Esami\\CI\\computational-intelligence\\.venv\\Lib\\site-packages\\IPython\\core\\interactiveshell.py\", line 2120, in showtraceback\n",
      "    stb = self.InteractiveTB.structured_traceback(\n",
      "          ^^^^^^^^^^^^^^^^^^^^^^^^^^^^^^^^^^^^^^^^\n",
      "  File \"c:\\Users\\Leonardo Pieraccioli\\Documents\\Esami\\CI\\computational-intelligence\\.venv\\Lib\\site-packages\\IPython\\core\\ultratb.py\", line 1435, in structured_traceback\n",
      "    return FormattedTB.structured_traceback(\n",
      "           ^^^^^^^^^^^^^^^^^^^^^^^^^^^^^^^^^\n",
      "  File \"c:\\Users\\Leonardo Pieraccioli\\Documents\\Esami\\CI\\computational-intelligence\\.venv\\Lib\\site-packages\\IPython\\core\\ultratb.py\", line 1326, in structured_traceback\n",
      "    return VerboseTB.structured_traceback(\n",
      "           ^^^^^^^^^^^^^^^^^^^^^^^^^^^^^^^\n",
      "  File \"c:\\Users\\Leonardo Pieraccioli\\Documents\\Esami\\CI\\computational-intelligence\\.venv\\Lib\\site-packages\\IPython\\core\\ultratb.py\", line 1173, in structured_traceback\n",
      "    formatted_exception = self.format_exception_as_a_whole(etype, evalue, etb, number_of_lines_of_context,\n",
      "                          ^^^^^^^^^^^^^^^^^^^^^^^^^^^^^^^^^^^^^^^^^^^^^^^^^^^^^^^^^^^^^^^^^^^^^^^^^^^^^^^^\n",
      "  File \"c:\\Users\\Leonardo Pieraccioli\\Documents\\Esami\\CI\\computational-intelligence\\.venv\\Lib\\site-packages\\IPython\\core\\ultratb.py\", line 1088, in format_exception_as_a_whole\n",
      "    frames.append(self.format_record(record))\n",
      "                  ^^^^^^^^^^^^^^^^^^^^^^^^^^\n",
      "  File \"c:\\Users\\Leonardo Pieraccioli\\Documents\\Esami\\CI\\computational-intelligence\\.venv\\Lib\\site-packages\\IPython\\core\\ultratb.py\", line 970, in format_record\n",
      "    frame_info.lines, Colors, self.has_colors, lvals\n",
      "    ^^^^^^^^^^^^^^^^\n",
      "  File \"c:\\Users\\Leonardo Pieraccioli\\Documents\\Esami\\CI\\computational-intelligence\\.venv\\Lib\\site-packages\\IPython\\core\\ultratb.py\", line 792, in lines\n",
      "    return self._sd.lines\n",
      "           ^^^^^^^^^^^^^^\n",
      "  File \"c:\\Users\\Leonardo Pieraccioli\\Documents\\Esami\\CI\\computational-intelligence\\.venv\\Lib\\site-packages\\stack_data\\utils.py\", line 145, in cached_property_wrapper\n",
      "    value = obj.__dict__[self.func.__name__] = self.func(obj)\n",
      "                                               ^^^^^^^^^^^^^^\n",
      "  File \"c:\\Users\\Leonardo Pieraccioli\\Documents\\Esami\\CI\\computational-intelligence\\.venv\\Lib\\site-packages\\stack_data\\core.py\", line 734, in lines\n",
      "    pieces = self.included_pieces\n",
      "             ^^^^^^^^^^^^^^^^^^^^\n",
      "  File \"c:\\Users\\Leonardo Pieraccioli\\Documents\\Esami\\CI\\computational-intelligence\\.venv\\Lib\\site-packages\\stack_data\\utils.py\", line 145, in cached_property_wrapper\n",
      "    value = obj.__dict__[self.func.__name__] = self.func(obj)\n",
      "                                               ^^^^^^^^^^^^^^\n",
      "  File \"c:\\Users\\Leonardo Pieraccioli\\Documents\\Esami\\CI\\computational-intelligence\\.venv\\Lib\\site-packages\\stack_data\\core.py\", line 681, in included_pieces\n",
      "    pos = scope_pieces.index(self.executing_piece)\n",
      "                             ^^^^^^^^^^^^^^^^^^^^\n",
      "  File \"c:\\Users\\Leonardo Pieraccioli\\Documents\\Esami\\CI\\computational-intelligence\\.venv\\Lib\\site-packages\\stack_data\\utils.py\", line 145, in cached_property_wrapper\n",
      "    value = obj.__dict__[self.func.__name__] = self.func(obj)\n",
      "                                               ^^^^^^^^^^^^^^\n",
      "  File \"c:\\Users\\Leonardo Pieraccioli\\Documents\\Esami\\CI\\computational-intelligence\\.venv\\Lib\\site-packages\\stack_data\\core.py\", line 660, in executing_piece\n",
      "    return only(\n",
      "           ^^^^^\n",
      "  File \"c:\\Users\\Leonardo Pieraccioli\\Documents\\Esami\\CI\\computational-intelligence\\.venv\\Lib\\site-packages\\executing\\executing.py\", line 116, in only\n",
      "    raise NotOneValueFound('Expected one value, found 0')\n",
      "executing.executing.NotOneValueFound: Expected one value, found 0\n"
     ]
    }
   ],
   "source": [
    "x3 = make_set_covering_problem(5000, 5000, .3)"
   ]
  },
  {
   "cell_type": "code",
   "execution_count": null,
   "id": "61f6eaf5",
   "metadata": {},
   "outputs": [],
   "source": [
    "# x4 = make_set_covering_problem(100, 100, .7)\n",
    "# x5 = make_set_covering_problem(1000, 1000, .7)\n",
    "# x6 = make_set_covering_problem(5000, 5000, .7)"
   ]
  },
  {
   "cell_type": "code",
   "execution_count": null,
   "id": "35fd0e90",
   "metadata": {},
   "outputs": [],
   "source": [
    "def goal_test(sets, state):\n",
    "    SETS = sets.toarray()\n",
    "    return np.all(\n",
    "        reduce(\n",
    "            np.logical_or,\n",
    "            [SETS[i] for i, t in enumerate(state) if t],\n",
    "            np.array([False for _ in range(len(SETS[0]))]),\n",
    "        )\n",
    "    )"
   ]
  },
  {
   "cell_type": "code",
   "execution_count": null,
   "id": "ce19859a",
   "metadata": {},
   "outputs": [],
   "source": [
    "def fitness1(state, sets):\n",
    "    SETS = sets.toarray()\n",
    "    valid = np.all(\n",
    "        reduce(\n",
    "            np.logical_or,\n",
    "            [SETS[i] for i, t in enumerate(state) if t],\n",
    "            np.array([False for _ in range(len(SETS[0]))]),\n",
    "        )\n",
    "    )\n",
    "    return valid, sum(state)"
   ]
  },
  {
   "cell_type": "code",
   "execution_count": null,
   "id": "23e16ea1",
   "metadata": {},
   "outputs": [],
   "source": [
    "def tweak1(state, PROBLEM_SIZE, valid):\n",
    "    new_state = copy(state)\n",
    "    if valid:\n",
    "        taken = []\n",
    "        for i, t in enumerate(state):\n",
    "            if t:\n",
    "                taken.append(i)\n",
    "        index = choice(taken)\n",
    "    else: index = randint(0, PROBLEM_SIZE - 1)\n",
    "    new_state[index] = not new_state[index]\n",
    "    return new_state"
   ]
  },
  {
   "cell_type": "code",
   "execution_count": null,
   "id": "8fcb245f",
   "metadata": {},
   "outputs": [],
   "source": [
    "def single_state_solve(initial_state, tweak, fitness, sets, max_improvement=100,total_steps=1_000):\n",
    "    cycles_needed = 0\n",
    "    current_state = copy(initial_state)\n",
    "    valid, current_fitness = fitness(current_state, sets)\n",
    "    number_of_sets = len(initial_state)\n",
    "    prev_valid = valid\n",
    "    failed_improvement = 0\n",
    "    \n",
    "    for _ in range(total_steps):\n",
    "        if failed_improvement >= max_improvement:\n",
    "            break\n",
    "        cycles_needed += 1\n",
    "        new_state = tweak(current_state, number_of_sets, valid)\n",
    "        valid, new_fitness = fitness(new_state, sets)\n",
    "        if valid and new_fitness < current_fitness:\n",
    "            print(f\"Improvement at cycle: {cycles_needed}, ({valid}, {new_fitness})\") \n",
    "            current_state = new_state\n",
    "            current_fitness = new_fitness\n",
    "        elif not valid and prev_valid:\n",
    "            failed_improvement += 1\n",
    "            valid = prev_valid\n",
    "            continue\n",
    "        elif not valid and not prev_valid and new_fitness > current_fitness:\n",
    "            print(f\"Still searching a valid solution. Current size {new_fitness}\")\n",
    "            current_state = new_state\n",
    "            current_fitness = new_fitness\n",
    "        prev_valid = valid\n",
    "\n",
    "    return current_state, cycles_needed"
   ]
  },
  {
   "cell_type": "code",
   "execution_count": 142,
   "id": "d0cb1c40",
   "metadata": {},
   "outputs": [
    {
     "name": "stdout",
     "output_type": "stream",
     "text": [
      "Still searching a valid solution. Current size 1\n",
      "Still searching a valid solution. Current size 2\n",
      "Still searching a valid solution. Current size 3\n",
      "Still searching a valid solution. Current size 4\n",
      "Still searching a valid solution. Current size 5\n",
      "Still searching a valid solution. Current size 6\n",
      "Still searching a valid solution. Current size 7\n",
      "Still searching a valid solution. Current size 8\n",
      "Still searching a valid solution. Current size 9\n",
      "Still searching a valid solution. Current size 10\n",
      "Still searching a valid solution. Current size 11\n",
      "Still searching a valid solution. Current size 12\n",
      "Solution has fitness: (False, 12) and was found in 25 cycles.\n"
     ]
    }
   ],
   "source": [
    "initial_state_100 = [False for _ in range(100)]\n",
    "solution1, cycles = single_state_solve(initial_state_100, tweak1, fitness1, x1, 10, 1000)\n",
    "print(f\"Solution has fitness: {fitness1(solution1, x1)} and was found in {cycles} cycles.\")"
   ]
  },
  {
   "cell_type": "code",
   "execution_count": 143,
   "id": "eb470118",
   "metadata": {},
   "outputs": [
    {
     "name": "stdout",
     "output_type": "stream",
     "text": [
      "Still searching a valid solution. Current size 1\n",
      "Still searching a valid solution. Current size 2\n",
      "Still searching a valid solution. Current size 3\n",
      "Still searching a valid solution. Current size 4\n",
      "Still searching a valid solution. Current size 5\n",
      "Still searching a valid solution. Current size 6\n",
      "Still searching a valid solution. Current size 7\n",
      "Still searching a valid solution. Current size 8\n",
      "Still searching a valid solution. Current size 9\n",
      "Still searching a valid solution. Current size 10\n",
      "Still searching a valid solution. Current size 11\n",
      "Still searching a valid solution. Current size 12\n",
      "Still searching a valid solution. Current size 13\n",
      "Still searching a valid solution. Current size 14\n",
      "Still searching a valid solution. Current size 15\n",
      "Still searching a valid solution. Current size 16\n",
      "Still searching a valid solution. Current size 17\n",
      "Still searching a valid solution. Current size 18\n",
      "Still searching a valid solution. Current size 19\n",
      "Still searching a valid solution. Current size 20\n",
      "Still searching a valid solution. Current size 21\n",
      "Solution has fitness: (False, 21) and was found in 42 cycles.\n"
     ]
    }
   ],
   "source": [
    "initial_state_1000 = [False for _ in range(1000)]\n",
    "solution2, cycles = single_state_solve(initial_state_1000, tweak1, fitness1, x2, 20, 1000)\n",
    "print(f\"Solution has fitness: {fitness1(solution2, x2)} and was found in {cycles} cycles.\")"
   ]
  },
  {
   "cell_type": "code",
   "execution_count": 144,
   "id": "c7643c79",
   "metadata": {},
   "outputs": [
    {
     "name": "stdout",
     "output_type": "stream",
     "text": [
      "Still searching a valid solution. Current size 1\n",
      "Still searching a valid solution. Current size 2\n",
      "Still searching a valid solution. Current size 3\n",
      "Still searching a valid solution. Current size 4\n",
      "Still searching a valid solution. Current size 5\n",
      "Still searching a valid solution. Current size 6\n",
      "Still searching a valid solution. Current size 7\n",
      "Still searching a valid solution. Current size 8\n",
      "Still searching a valid solution. Current size 9\n",
      "Still searching a valid solution. Current size 10\n",
      "Still searching a valid solution. Current size 11\n",
      "Still searching a valid solution. Current size 12\n",
      "Still searching a valid solution. Current size 13\n",
      "Still searching a valid solution. Current size 14\n",
      "Still searching a valid solution. Current size 15\n",
      "Still searching a valid solution. Current size 16\n",
      "Still searching a valid solution. Current size 17\n",
      "Still searching a valid solution. Current size 18\n",
      "Still searching a valid solution. Current size 19\n",
      "Still searching a valid solution. Current size 20\n",
      "Still searching a valid solution. Current size 21\n",
      "Still searching a valid solution. Current size 22\n",
      "Solution has fitness: (False, 22) and was found in 33 cycles.\n"
     ]
    }
   ],
   "source": [
    "initial_state_5000 = [False for _ in range(5000)]\n",
    "solution3, cycles = single_state_solve(initial_state_5000, tweak1, fitness1, x3, 10, 1000)\n",
    "print(f\"Solution has fitness: {fitness1(solution3, x3)} and was found in {cycles} cycles.\")"
   ]
  }
 ],
 "metadata": {
  "kernelspec": {
   "display_name": "Python 3 (ipykernel)",
   "language": "python",
   "name": "python3"
  },
  "language_info": {
   "codemirror_mode": {
    "name": "ipython",
    "version": 3
   },
   "file_extension": ".py",
   "mimetype": "text/x-python",
   "name": "python",
   "nbconvert_exporter": "python",
   "pygments_lexer": "ipython3",
   "version": "3.11.5"
  }
 },
 "nbformat": 4,
 "nbformat_minor": 5
}
