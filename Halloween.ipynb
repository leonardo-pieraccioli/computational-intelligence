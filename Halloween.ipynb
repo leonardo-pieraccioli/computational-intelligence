{
 "cells": [
  {
   "cell_type": "markdown",
   "id": "185f9931-b384-4fdc-a5b2-eea785428bb8",
   "metadata": {},
   "source": [
    "Copyright **`(c)`** 2023 Giovanni Squillero `<giovanni.squillero@polito.it>`  \n",
    "[`https://github.com/squillero/computational-intelligence`](https://github.com/squillero/computational-intelligence)  \n",
    "Free for personal or classroom use; see [`LICENSE.md`](https://github.com/squillero/computational-intelligence/blob/master/LICENSE.md) for details.  "
   ]
  },
  {
   "cell_type": "code",
   "execution_count": 182,
   "id": "3ffe7245-e849-41d0-9698-5f0e0b83fee9",
   "metadata": {},
   "outputs": [],
   "source": [
    "from itertools import product\n",
    "from random import random, randint, shuffle, seed\n",
    "import numpy as np\n",
    "from scipy import sparse\n",
    "from copy import copy\n",
    "from functools import reduce\n",
    "from random import choice"
   ]
  },
  {
   "cell_type": "code",
   "execution_count": 183,
   "id": "47647ef4",
   "metadata": {},
   "outputs": [],
   "source": [
    "# function that prints sets in a human readable way\n",
    "def print_solution(solution, sets):\n",
    "    \n",
    "    for i, is_set_covered in enumerate(solution):\n",
    "        if is_set_covered:\n",
    "            print('Set', i+1, ': ', end='')\n",
    "            for element_taken in sets.toarray()[i]:\n",
    "                if(element_taken): print('x', end='')\n",
    "                else: print('-', end='')\n",
    "            print()\n"
   ]
  },
  {
   "cell_type": "code",
   "execution_count": 184,
   "id": "6f03bd67-78a0-4d72-95b7-77a918727b91",
   "metadata": {},
   "outputs": [],
   "source": [
    "def make_set_covering_problem(num_points, num_sets, density):\n",
    "    \"\"\"Returns a sparse array where rows are sets and columns are the covered items\"\"\"\n",
    "    seed(num_points*2654435761+num_sets+density)\n",
    "    sets = sparse.lil_array((num_sets, num_points), dtype=bool)\n",
    "    for s, p in product(range(num_sets), range(num_points)):\n",
    "        if random() < density:\n",
    "            sets[s, p] = True\n",
    "    for p in range(num_points):\n",
    "        sets[randint(0, num_sets-1), p] = True\n",
    "    return sets"
   ]
  },
  {
   "cell_type": "markdown",
   "id": "82b0be37-21d9-492d-9a1d-cf0cdf0ddd76",
   "metadata": {},
   "source": [
    "# Halloween Challenge\n",
    "\n",
    "Find the best solution with the fewest calls to the fitness functions for:\n",
    "\n",
    "* `num_points = [100, 1_000, 5_000]`\n",
    "* `num_sets = num_points`\n",
    "* `density = [.3, .7]` "
   ]
  },
  {
   "cell_type": "code",
   "execution_count": 185,
   "id": "221ffdba-5d3d-48cc-bd08-45ccc9366ea6",
   "metadata": {},
   "outputs": [],
   "source": [
    "# x = make_set_covering_problem(1000, 1000, .3)\n",
    "# print(\"Element at row=42 and column=42:\", x[42, 42])"
   ]
  },
  {
   "cell_type": "code",
   "execution_count": 186,
   "id": "6492337b-8429-472d-9c3e-c79c5b46da54",
   "metadata": {},
   "outputs": [],
   "source": [
    "x1 = make_set_covering_problem(100, 100, .3)"
   ]
  },
  {
   "cell_type": "code",
   "execution_count": 187,
   "id": "a07bfb46",
   "metadata": {},
   "outputs": [],
   "source": [
    "x2 = make_set_covering_problem(1000, 1000, .3)"
   ]
  },
  {
   "cell_type": "code",
   "execution_count": 188,
   "id": "3dbb2888",
   "metadata": {},
   "outputs": [],
   "source": [
    "#x3 = make_set_covering_problem(5000, 5000, .3)"
   ]
  },
  {
   "cell_type": "code",
   "execution_count": 189,
   "id": "61f6eaf5",
   "metadata": {},
   "outputs": [],
   "source": [
    "x4 = make_set_covering_problem(100, 100, .7)"
   ]
  },
  {
   "cell_type": "code",
   "execution_count": 190,
   "id": "c3262901",
   "metadata": {},
   "outputs": [],
   "source": [
    "x5 = make_set_covering_problem(1000, 1000, .7)"
   ]
  },
  {
   "cell_type": "code",
   "execution_count": 191,
   "id": "515a2eac",
   "metadata": {},
   "outputs": [],
   "source": [
    "#x6 = make_set_covering_problem(5000, 5000, .7)"
   ]
  },
  {
   "cell_type": "code",
   "execution_count": 192,
   "id": "35fd0e90",
   "metadata": {},
   "outputs": [],
   "source": [
    "def goal_test(sets, state):\n",
    "    SETS = sets.toarray()\n",
    "    return np.all(\n",
    "        reduce(\n",
    "            np.logical_or,\n",
    "            [SETS[i] for i, t in enumerate(state) if t],\n",
    "            np.array([False for _ in range(len(SETS[0]))]),\n",
    "        )\n",
    "    )"
   ]
  },
  {
   "cell_type": "code",
   "execution_count": 193,
   "id": "ce19859a",
   "metadata": {},
   "outputs": [],
   "source": [
    "def fitness1(state, sets):\n",
    "    SETS = sets.toarray()\n",
    "    valid = np.all(\n",
    "        reduce(\n",
    "            np.logical_or,\n",
    "            [SETS[i] for i, t in enumerate(state) if t],\n",
    "            np.array([False for _ in range(len(SETS[0]))]),\n",
    "        )\n",
    "    )\n",
    "    return valid, sum(state)"
   ]
  },
  {
   "cell_type": "code",
   "execution_count": 194,
   "id": "23e16ea1",
   "metadata": {},
   "outputs": [],
   "source": [
    "def tweak1(state, PROBLEM_SIZE, valid):\n",
    "    new_state = copy(state)\n",
    "    if valid:\n",
    "        taken = []\n",
    "        for i, t in enumerate(state):\n",
    "            if t:\n",
    "                taken.append(i)\n",
    "        index = choice(taken)\n",
    "    else: index = randint(0, PROBLEM_SIZE - 1)\n",
    "    new_state[index] = not new_state[index]\n",
    "    return new_state"
   ]
  },
  {
   "cell_type": "code",
   "execution_count": 195,
   "id": "8fcb245f",
   "metadata": {},
   "outputs": [],
   "source": [
    "def single_state_solve(initial_state, tweak, fitness, sets, max_improvement=100,total_steps=1_000):\n",
    "    cycles_needed = 0\n",
    "    current_state = copy(initial_state)\n",
    "    valid, current_fitness = fitness(current_state, sets)\n",
    "    number_of_sets = len(initial_state)\n",
    "    prev_valid = valid\n",
    "    failed_improvement = 0\n",
    "    \n",
    "    for _ in range(total_steps):\n",
    "        if failed_improvement >= max_improvement:\n",
    "            break\n",
    "        cycles_needed += 1\n",
    "        new_state = tweak(current_state, number_of_sets, valid)\n",
    "        valid, new_fitness = fitness(new_state, sets)\n",
    "        if valid and new_fitness < current_fitness:\n",
    "            print(f\"Improvement at cycle: {cycles_needed}, ({valid}, {new_fitness})\") \n",
    "            current_state = new_state\n",
    "            current_fitness = new_fitness\n",
    "        elif valid and not prev_valid:\n",
    "            print(f\"Found a valid solution at cycle: {cycles_needed}, ({valid}, {new_fitness})\")\n",
    "            current_state = new_state\n",
    "            current_fitness = new_fitness\n",
    "        elif not valid and prev_valid:\n",
    "            failed_improvement += 1\n",
    "            valid = prev_valid\n",
    "            continue\n",
    "        elif not valid and not prev_valid and new_fitness > current_fitness:\n",
    "            print(f\"Still searching a valid solution. Current size {new_fitness}\")\n",
    "            current_state = new_state\n",
    "            current_fitness = new_fitness\n",
    "        prev_valid = valid\n",
    "\n",
    "    return current_state, cycles_needed"
   ]
  },
  {
   "cell_type": "code",
   "execution_count": 196,
   "id": "d0cb1c40",
   "metadata": {},
   "outputs": [],
   "source": [
    "initial_state_100 = [False for _ in range(100)]\n",
    "initial_state_1000 = [False for _ in range(1000)]\n",
    "initial_state_5000 = [False for _ in range(5000)]"
   ]
  },
  {
   "cell_type": "code",
   "execution_count": 197,
   "id": "eb8c0648",
   "metadata": {},
   "outputs": [
    {
     "name": "stdout",
     "output_type": "stream",
     "text": [
      "Still searching a valid solution. Current size 1\n",
      "Still searching a valid solution. Current size 2\n",
      "Still searching a valid solution. Current size 3\n",
      "Still searching a valid solution. Current size 4\n",
      "Still searching a valid solution. Current size 5\n",
      "Still searching a valid solution. Current size 6\n",
      "Still searching a valid solution. Current size 7\n",
      "Still searching a valid solution. Current size 8\n",
      "Still searching a valid solution. Current size 9\n",
      "Still searching a valid solution. Current size 10\n",
      "Still searching a valid solution. Current size 11\n",
      "Still searching a valid solution. Current size 12\n",
      "Still searching a valid solution. Current size 13\n",
      "Found a valid solution at cycle: 15, (True, 14)\n",
      "Improvement at cycle: 16, (True, 13)\n",
      "Improvement at cycle: 17, (True, 12)\n",
      "Improvement at cycle: 19, (True, 11)\n",
      "Improvement at cycle: 22, (True, 10)\n",
      "Improvement at cycle: 27, (True, 9)\n",
      "Solution has fitness: (True, 9) and was found in 30 cycles.\n"
     ]
    }
   ],
   "source": [
    "\n",
    "solution1, cycles = single_state_solve(initial_state_100, tweak1, fitness1, x1, 10, 1000)\n",
    "print(f\"Solution has fitness: {fitness1(solution1, x1)} and was found in {cycles} cycles.\")"
   ]
  },
  {
   "cell_type": "code",
   "execution_count": 198,
   "id": "eb470118",
   "metadata": {},
   "outputs": [
    {
     "name": "stdout",
     "output_type": "stream",
     "text": [
      "Still searching a valid solution. Current size 1\n",
      "Still searching a valid solution. Current size 2\n",
      "Still searching a valid solution. Current size 3\n",
      "Still searching a valid solution. Current size 4\n",
      "Still searching a valid solution. Current size 5\n",
      "Still searching a valid solution. Current size 6\n",
      "Still searching a valid solution. Current size 7\n",
      "Still searching a valid solution. Current size 8\n",
      "Still searching a valid solution. Current size 9\n",
      "Still searching a valid solution. Current size 10\n",
      "Still searching a valid solution. Current size 11\n",
      "Still searching a valid solution. Current size 12\n",
      "Still searching a valid solution. Current size 13\n",
      "Still searching a valid solution. Current size 14\n",
      "Still searching a valid solution. Current size 15\n",
      "Still searching a valid solution. Current size 16\n",
      "Still searching a valid solution. Current size 17\n",
      "Still searching a valid solution. Current size 18\n",
      "Still searching a valid solution. Current size 19\n",
      "Still searching a valid solution. Current size 20\n",
      "Still searching a valid solution. Current size 21\n",
      "Still searching a valid solution. Current size 22\n",
      "Still searching a valid solution. Current size 23\n",
      "Still searching a valid solution. Current size 24\n",
      "Still searching a valid solution. Current size 25\n",
      "Still searching a valid solution. Current size 26\n",
      "Still searching a valid solution. Current size 27\n",
      "Found a valid solution at cycle: 29, (True, 28)\n",
      "Improvement at cycle: 30, (True, 27)\n",
      "Improvement at cycle: 31, (True, 26)\n",
      "Improvement at cycle: 32, (True, 25)\n",
      "Improvement at cycle: 33, (True, 24)\n",
      "Improvement at cycle: 35, (True, 23)\n",
      "Improvement at cycle: 36, (True, 22)\n",
      "Improvement at cycle: 38, (True, 21)\n",
      "Improvement at cycle: 39, (True, 20)\n",
      "Improvement at cycle: 40, (True, 19)\n",
      "Improvement at cycle: 41, (True, 18)\n",
      "Improvement at cycle: 42, (True, 17)\n",
      "Improvement at cycle: 44, (True, 16)\n",
      "Improvement at cycle: 48, (True, 15)\n",
      "Improvement at cycle: 57, (True, 14)\n",
      "Solution has fitness: (True, 14) and was found in 63 cycles.\n"
     ]
    }
   ],
   "source": [
    "solution2, cycles = single_state_solve(initial_state_1000, tweak1, fitness1, x2, 20, 1000)\n",
    "print(f\"Solution has fitness: {fitness1(solution2, x2)} and was found in {cycles} cycles.\")"
   ]
  },
  {
   "cell_type": "code",
   "execution_count": 199,
   "id": "c7643c79",
   "metadata": {},
   "outputs": [],
   "source": [
    "# solution3, cycles = single_state_solve(initial_state_5000, tweak1, fitness1, x3, 10, 1000)\n",
    "# print(f\"Solution has fitness: {fitness1(solution3, x3)} and was found in {cycles} cycles.\")"
   ]
  },
  {
   "cell_type": "code",
   "execution_count": 200,
   "id": "f16ee291",
   "metadata": {},
   "outputs": [
    {
     "name": "stdout",
     "output_type": "stream",
     "text": [
      "Still searching a valid solution. Current size 1\n",
      "Still searching a valid solution. Current size 2\n",
      "Still searching a valid solution. Current size 3\n",
      "Still searching a valid solution. Current size 4\n",
      "Still searching a valid solution. Current size 5\n",
      "Found a valid solution at cycle: 6, (True, 6)\n",
      "Improvement at cycle: 8, (True, 5)\n",
      "Improvement at cycle: 10, (True, 4)\n",
      "Solution has fitness: (True, 4) and was found in 18 cycles.\n"
     ]
    }
   ],
   "source": [
    "solution4, cycles = single_state_solve(initial_state_100, tweak1, fitness1, x4, 10, 1000)\n",
    "print(f\"Solution has fitness: {fitness1(solution4, x4)} and was found in {cycles} cycles.\")"
   ]
  },
  {
   "cell_type": "code",
   "execution_count": 203,
   "id": "7ad8adc8",
   "metadata": {},
   "outputs": [
    {
     "name": "stdout",
     "output_type": "stream",
     "text": [
      "Still searching a valid solution. Current size 1\n",
      "Still searching a valid solution. Current size 2\n",
      "Still searching a valid solution. Current size 3\n",
      "Still searching a valid solution. Current size 4\n",
      "Found a valid solution at cycle: 5, (True, 5)\n",
      "Improvement at cycle: 9, (True, 4)\n",
      "Solution has fitness: (True, 4) and was found in 26 cycles.\n"
     ]
    }
   ],
   "source": [
    "solution5, cycles = single_state_solve(initial_state_1000, tweak1, fitness1, x5, 20, 1000)\n",
    "print(f\"Solution has fitness: {fitness1(solution5, x5)} and was found in {cycles} cycles.\")"
   ]
  },
  {
   "cell_type": "code",
   "execution_count": null,
   "id": "a8162e11",
   "metadata": {},
   "outputs": [],
   "source": [
    "# solution6, cycles = single_state_solve(initial_state_5000, tweak1, fitness1, x6, 10, 1000)\n",
    "# print(f\"Solution has fitness: {fitness1(solution6, x6)} and was found in {cycles} cycles.\")"
   ]
  }
 ],
 "metadata": {
  "kernelspec": {
   "display_name": "Python 3 (ipykernel)",
   "language": "python",
   "name": "python3"
  },
  "language_info": {
   "codemirror_mode": {
    "name": "ipython",
    "version": 3
   },
   "file_extension": ".py",
   "mimetype": "text/x-python",
   "name": "python",
   "nbconvert_exporter": "python",
   "pygments_lexer": "ipython3",
   "version": "3.11.5"
  }
 },
 "nbformat": 4,
 "nbformat_minor": 5
}
