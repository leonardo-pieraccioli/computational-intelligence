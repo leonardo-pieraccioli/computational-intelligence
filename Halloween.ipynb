{
 "cells": [
  {
   "cell_type": "markdown",
   "id": "185f9931-b384-4fdc-a5b2-eea785428bb8",
   "metadata": {},
   "source": [
    "Copyright **`(c)`** 2023 Giovanni Squillero `<giovanni.squillero@polito.it>`  \n",
    "[`https://github.com/squillero/computational-intelligence`](https://github.com/squillero/computational-intelligence)  \n",
    "Free for personal or classroom use; see [`LICENSE.md`](https://github.com/squillero/computational-intelligence/blob/master/LICENSE.md) for details.  "
   ]
  },
  {
   "cell_type": "code",
   "execution_count": 122,
   "id": "3ffe7245-e849-41d0-9698-5f0e0b83fee9",
   "metadata": {},
   "outputs": [],
   "source": [
    "from itertools import product\n",
    "from random import random, randint, shuffle, seed\n",
    "import numpy as np\n",
    "from scipy import sparse\n",
    "from copy import copy\n",
    "from functools import reduce\n",
    "from random import choice"
   ]
  },
  {
   "cell_type": "code",
   "execution_count": 123,
   "id": "47647ef4",
   "metadata": {},
   "outputs": [],
   "source": [
    "# function that prints sets in a human readable way\n",
    "def print_solution(solution, sets):\n",
    "    \n",
    "    for i, is_set_covered in enumerate(solution):\n",
    "        if is_set_covered:\n",
    "            print('Set', i+1, ': ', end='')\n",
    "            for element_taken in sets.toarray()[i]:\n",
    "                if(element_taken): print('x', end='')\n",
    "                else: print('-', end='')\n",
    "            print()\n"
   ]
  },
  {
   "cell_type": "code",
   "execution_count": 124,
   "id": "6f03bd67-78a0-4d72-95b7-77a918727b91",
   "metadata": {},
   "outputs": [],
   "source": [
    "def make_set_covering_problem(num_points, num_sets, density):\n",
    "    \"\"\"Returns a sparse array where rows are sets and columns are the covered items\"\"\"\n",
    "    seed(num_points*2654435761+num_sets+density)\n",
    "    sets = sparse.lil_array((num_sets, num_points), dtype=bool)\n",
    "    for s, p in product(range(num_sets), range(num_points)):\n",
    "        if random() < density:\n",
    "            sets[s, p] = True\n",
    "    for p in range(num_points):\n",
    "        sets[randint(0, num_sets-1), p] = True\n",
    "    return sets"
   ]
  },
  {
   "cell_type": "markdown",
   "id": "82b0be37-21d9-492d-9a1d-cf0cdf0ddd76",
   "metadata": {},
   "source": [
    "# Halloween Challenge\n",
    "\n",
    "Find the best solution with the fewest calls to the fitness functions for:\n",
    "\n",
    "* `num_points = [100, 1_000, 5_000]`\n",
    "* `num_sets = num_points`\n",
    "* `density = [.3, .7]` "
   ]
  },
  {
   "cell_type": "code",
   "execution_count": 125,
   "id": "221ffdba-5d3d-48cc-bd08-45ccc9366ea6",
   "metadata": {},
   "outputs": [],
   "source": [
    "# x = make_set_covering_problem(1000, 1000, .3)\n",
    "# print(\"Element at row=42 and column=42:\", x[42, 42])"
   ]
  },
  {
   "cell_type": "code",
   "execution_count": 126,
   "id": "6492337b-8429-472d-9c3e-c79c5b46da54",
   "metadata": {},
   "outputs": [],
   "source": [
    "x1 = make_set_covering_problem(100, 100, .3)"
   ]
  },
  {
   "cell_type": "code",
   "execution_count": 127,
   "id": "a07bfb46",
   "metadata": {},
   "outputs": [],
   "source": [
    "x2 = make_set_covering_problem(1000, 1000, .3)"
   ]
  },
  {
   "cell_type": "code",
   "execution_count": 128,
   "id": "3dbb2888",
   "metadata": {},
   "outputs": [
    {
     "ename": "KeyboardInterrupt",
     "evalue": "",
     "output_type": "error",
     "traceback": [
      "\u001b[0;31m---------------------------------------------------------------------------\u001b[0m",
      "\u001b[0;31mKeyboardInterrupt\u001b[0m                         Traceback (most recent call last)",
      "\u001b[1;32m/home/leonardo-pieraccioli/Documents/Politecnico di Torino/Computational Intelligence/computational-intelligence/Halloween.ipynb Cell 9\u001b[0m line \u001b[0;36m1\n\u001b[0;32m----> <a href='vscode-notebook-cell:/home/leonardo-pieraccioli/Documents/Politecnico%20di%20Torino/Computational%20Intelligence/computational-intelligence/Halloween.ipynb#X42sZmlsZQ%3D%3D?line=0'>1</a>\u001b[0m x3 \u001b[39m=\u001b[39m make_set_covering_problem(\u001b[39m5000\u001b[39;49m, \u001b[39m5000\u001b[39;49m, \u001b[39m.3\u001b[39;49m)\n",
      "\u001b[1;32m/home/leonardo-pieraccioli/Documents/Politecnico di Torino/Computational Intelligence/computational-intelligence/Halloween.ipynb Cell 9\u001b[0m line \u001b[0;36m7\n\u001b[1;32m      <a href='vscode-notebook-cell:/home/leonardo-pieraccioli/Documents/Politecnico%20di%20Torino/Computational%20Intelligence/computational-intelligence/Halloween.ipynb#X42sZmlsZQ%3D%3D?line=4'>5</a>\u001b[0m \u001b[39mfor\u001b[39;00m s, p \u001b[39min\u001b[39;00m product(\u001b[39mrange\u001b[39m(num_sets), \u001b[39mrange\u001b[39m(num_points)):\n\u001b[1;32m      <a href='vscode-notebook-cell:/home/leonardo-pieraccioli/Documents/Politecnico%20di%20Torino/Computational%20Intelligence/computational-intelligence/Halloween.ipynb#X42sZmlsZQ%3D%3D?line=5'>6</a>\u001b[0m     \u001b[39mif\u001b[39;00m random() \u001b[39m<\u001b[39m density:\n\u001b[0;32m----> <a href='vscode-notebook-cell:/home/leonardo-pieraccioli/Documents/Politecnico%20di%20Torino/Computational%20Intelligence/computational-intelligence/Halloween.ipynb#X42sZmlsZQ%3D%3D?line=6'>7</a>\u001b[0m         sets[s, p] \u001b[39m=\u001b[39m \u001b[39mTrue\u001b[39;00m\n\u001b[1;32m      <a href='vscode-notebook-cell:/home/leonardo-pieraccioli/Documents/Politecnico%20di%20Torino/Computational%20Intelligence/computational-intelligence/Halloween.ipynb#X42sZmlsZQ%3D%3D?line=7'>8</a>\u001b[0m \u001b[39mfor\u001b[39;00m p \u001b[39min\u001b[39;00m \u001b[39mrange\u001b[39m(num_points):\n\u001b[1;32m      <a href='vscode-notebook-cell:/home/leonardo-pieraccioli/Documents/Politecnico%20di%20Torino/Computational%20Intelligence/computational-intelligence/Halloween.ipynb#X42sZmlsZQ%3D%3D?line=8'>9</a>\u001b[0m     sets[randint(\u001b[39m0\u001b[39m, num_sets\u001b[39m-\u001b[39m\u001b[39m1\u001b[39m), p] \u001b[39m=\u001b[39m \u001b[39mTrue\u001b[39;00m\n",
      "File \u001b[0;32m~/.local/lib/python3.10/site-packages/scipy/sparse/_lil.py:322\u001b[0m, in \u001b[0;36m_lil_base.__setitem__\u001b[0;34m(self, key, x)\u001b[0m\n\u001b[1;32m    320\u001b[0m     \u001b[39mif\u001b[39;00m x\u001b[39m.\u001b[39msize \u001b[39m>\u001b[39m \u001b[39m1\u001b[39m:\n\u001b[1;32m    321\u001b[0m         \u001b[39mraise\u001b[39;00m \u001b[39mValueError\u001b[39;00m(\u001b[39m\"\u001b[39m\u001b[39mTrying to assign a sequence to an item\u001b[39m\u001b[39m\"\u001b[39m)\n\u001b[0;32m--> 322\u001b[0m     \u001b[39mreturn\u001b[39;00m \u001b[39mself\u001b[39;49m\u001b[39m.\u001b[39;49m_set_intXint(row, col, x)\n\u001b[1;32m    323\u001b[0m \u001b[39m# Fast path for full-matrix sparse assignment.\u001b[39;00m\n\u001b[1;32m    324\u001b[0m \u001b[39mif\u001b[39;00m (\u001b[39misinstance\u001b[39m(row, \u001b[39mslice\u001b[39m) \u001b[39mand\u001b[39;00m \u001b[39misinstance\u001b[39m(col, \u001b[39mslice\u001b[39m) \u001b[39mand\u001b[39;00m\n\u001b[1;32m    325\u001b[0m         row \u001b[39m==\u001b[39m \u001b[39mslice\u001b[39m(\u001b[39mNone\u001b[39;00m) \u001b[39mand\u001b[39;00m col \u001b[39m==\u001b[39m \u001b[39mslice\u001b[39m(\u001b[39mNone\u001b[39;00m) \u001b[39mand\u001b[39;00m\n\u001b[1;32m    326\u001b[0m         issparse(x) \u001b[39mand\u001b[39;00m x\u001b[39m.\u001b[39mshape \u001b[39m==\u001b[39m \u001b[39mself\u001b[39m\u001b[39m.\u001b[39mshape):\n",
      "File \u001b[0;32m~/.local/lib/python3.10/site-packages/scipy/sparse/_lil.py:299\u001b[0m, in \u001b[0;36m_lil_base._set_intXint\u001b[0;34m(self, row, col, x)\u001b[0m\n\u001b[1;32m    298\u001b[0m \u001b[39mdef\u001b[39;00m \u001b[39m_set_intXint\u001b[39m(\u001b[39mself\u001b[39m, row, col, x):\n\u001b[0;32m--> 299\u001b[0m     _csparsetools\u001b[39m.\u001b[39;49mlil_insert(\u001b[39mself\u001b[39;49m\u001b[39m.\u001b[39;49mshape[\u001b[39m0\u001b[39;49m], \u001b[39mself\u001b[39;49m\u001b[39m.\u001b[39;49mshape[\u001b[39m1\u001b[39;49m], \u001b[39mself\u001b[39;49m\u001b[39m.\u001b[39;49mrows,\n\u001b[1;32m    300\u001b[0m                              \u001b[39mself\u001b[39;49m\u001b[39m.\u001b[39;49mdata, row, col, x)\n",
      "\u001b[0;31mKeyboardInterrupt\u001b[0m: "
     ]
    }
   ],
   "source": [
    "x3 = make_set_covering_problem(5000, 5000, .3)"
   ]
  },
  {
   "cell_type": "code",
   "execution_count": null,
   "id": "61f6eaf5",
   "metadata": {},
   "outputs": [],
   "source": [
    "x4 = make_set_covering_problem(100, 100, .7)"
   ]
  },
  {
   "cell_type": "code",
   "execution_count": null,
   "id": "c3262901",
   "metadata": {},
   "outputs": [],
   "source": [
    "x5 = make_set_covering_problem(1000, 1000, .7)"
   ]
  },
  {
   "cell_type": "code",
   "execution_count": null,
   "id": "515a2eac",
   "metadata": {},
   "outputs": [],
   "source": [
    "x6 = make_set_covering_problem(5000, 5000, .7)"
   ]
  },
  {
   "cell_type": "code",
   "execution_count": null,
   "id": "ce19859a",
   "metadata": {},
   "outputs": [],
   "source": [
    "def fitness(state, sets):\n",
    "    SETS = sets.toarray()\n",
    "    valid = np.all(\n",
    "        reduce(\n",
    "            np.logical_or,\n",
    "            [SETS[i] for i, t in enumerate(state) if t],\n",
    "            np.array([False for _ in range(len(SETS[0]))]),\n",
    "        )\n",
    "    )\n",
    "    return valid, sum(state)"
   ]
  },
  {
   "cell_type": "code",
   "execution_count": null,
   "id": "23e16ea1",
   "metadata": {},
   "outputs": [],
   "source": [
    "def tweak(state, PROBLEM_SIZE, valid):\n",
    "    new_state = copy(state)\n",
    "    if valid:\n",
    "        taken = []\n",
    "        for i, t in enumerate(state):\n",
    "            if t:\n",
    "                taken.append(i)\n",
    "        index = choice(taken)\n",
    "    else: index = randint(0, PROBLEM_SIZE - 1)\n",
    "    new_state[index] = not new_state[index]\n",
    "    return new_state"
   ]
  },
  {
   "cell_type": "markdown",
   "id": "b982f6ab",
   "metadata": {},
   "source": [
    "# Algorithm explaination\n",
    "\n",
    "## Idea\n",
    "\n",
    "The algorithms starts with a state that does not have any set taken and it has two consecutive phases:\n",
    "1. Initially it tries to form a valid solution by taking random sets.\n",
    "2. When a valid solution is found it tries to improve it by removing sets that are not needed to the solution.\n",
    "\n",
    "## Parameters\n",
    "\n",
    "The algorithm has the following parameters:\n",
    "- **initial_state**: no set is taken\n",
    "- **sets**: the list of all the sets, used to validate the solutions\n",
    "- **max_improvement**: the maximum number of steps in the second phase\n",
    "- **max_consecutive**: True if the max_improvement are considered consecutive, False if they are total\n",
    "- **total_steps**: the maximum number of steps of the algorithm"
   ]
  },
  {
   "cell_type": "code",
   "execution_count": null,
   "id": "8fcb245f",
   "metadata": {},
   "outputs": [],
   "source": [
    "def single_state_solve(initial_state, sets, max_improvement=100, max_consecutive=False,total_steps=1_000):\n",
    "    cycles_needed = 0\n",
    "    current_state = copy(initial_state)\n",
    "    valid, current_fitness = fitness(current_state, sets)\n",
    "    number_of_sets = len(initial_state)\n",
    "    prev_valid = valid\n",
    "    failed_improvement = 0\n",
    "    \n",
    "    for _ in range(total_steps):\n",
    "        if failed_improvement >= max_improvement:\n",
    "            break\n",
    "        cycles_needed += 1\n",
    "        new_state = tweak(current_state, number_of_sets, valid)\n",
    "        valid, new_fitness = fitness(new_state, sets)\n",
    "        if valid and new_fitness < current_fitness:\n",
    "            #print(f\"Improvement at cycle: {cycles_needed}, ({valid}, {new_fitness})\") \n",
    "            current_state = new_state\n",
    "            current_fitness = new_fitness\n",
    "            if max_consecutive: failed_improvement = 0\n",
    "        elif valid and not prev_valid:\n",
    "            #print(f\"Found a valid solution at cycle: {cycles_needed}, ({valid}, {new_fitness})\")\n",
    "            current_state = new_state\n",
    "            current_fitness = new_fitness\n",
    "        elif not valid and prev_valid:\n",
    "            failed_improvement += 1\n",
    "            valid = prev_valid\n",
    "            continue\n",
    "        elif not valid and not prev_valid and new_fitness > current_fitness:\n",
    "            #print(f\"Still searching a valid solution. Current size {new_fitness}\")\n",
    "            current_state = new_state\n",
    "            current_fitness = new_fitness\n",
    "        prev_valid = valid\n",
    "\n",
    "    return current_state, cycles_needed"
   ]
  },
  {
   "cell_type": "code",
   "execution_count": 137,
   "id": "d0cb1c40",
   "metadata": {},
   "outputs": [],
   "source": [
    "initial_state_100 = [False for _ in range(100)]\n",
    "initial_state_1000 = [False for _ in range(1000)]\n",
    "initial_state_5000 = [False for _ in range(5000)]\n",
    "\n",
    "max_improvement = 5\n",
    "max_consecutive = True"
   ]
  },
  {
   "cell_type": "code",
   "execution_count": 138,
   "id": "eb8c0648",
   "metadata": {},
   "outputs": [
    {
     "name": "stdout",
     "output_type": "stream",
     "text": [
      "Solution has fitness: (True, 9) in 44 cycles.\n"
     ]
    }
   ],
   "source": [
    "solution1, cycles = single_state_solve(initial_state_100, x1, max_improvement, max_consecutive)\n",
    "print(f\"Solution has fitness: {fitness(solution1, x1)} in {cycles} cycles.\")"
   ]
  },
  {
   "cell_type": "code",
   "execution_count": 139,
   "id": "eb470118",
   "metadata": {},
   "outputs": [
    {
     "name": "stdout",
     "output_type": "stream",
     "text": [
      "Solution has fitness: (True, 15) in 39 cycles.\n"
     ]
    }
   ],
   "source": [
    "solution2, cycles = single_state_solve(initial_state_1000, x2, max_improvement, max_consecutive)\n",
    "print(f\"Solution has fitness: {fitness(solution2, x2)} in {cycles} cycles.\")"
   ]
  },
  {
   "cell_type": "code",
   "execution_count": 140,
   "id": "c7643c79",
   "metadata": {},
   "outputs": [
    {
     "name": "stdout",
     "output_type": "stream",
     "text": [
      "Solution has fitness: (True, 20) in 27 cycles.\n"
     ]
    }
   ],
   "source": [
    "solution3, cycles = single_state_solve(initial_state_5000, x3, max_improvement, max_consecutive)\n",
    "print(f\"Solution has fitness: {fitness(solution3, x3)} in {cycles} cycles.\")"
   ]
  },
  {
   "cell_type": "code",
   "execution_count": 141,
   "id": "f16ee291",
   "metadata": {},
   "outputs": [
    {
     "name": "stdout",
     "output_type": "stream",
     "text": [
      "Solution has fitness: (True, 4) in 9 cycles.\n"
     ]
    }
   ],
   "source": [
    "solution4, cycles = single_state_solve(initial_state_100, x4, max_improvement, max_consecutive)\n",
    "print(f\"Solution has fitness: {fitness(solution4, x4)} in {cycles} cycles.\")"
   ]
  },
  {
   "cell_type": "code",
   "execution_count": 142,
   "id": "7ad8adc8",
   "metadata": {},
   "outputs": [
    {
     "name": "stdout",
     "output_type": "stream",
     "text": [
      "Solution has fitness: (True, 6) in 15 cycles.\n"
     ]
    }
   ],
   "source": [
    "solution5, cycles = single_state_solve(initial_state_1000, x5, max_improvement, max_consecutive)\n",
    "print(f\"Solution has fitness: {fitness(solution5, x5)} in {cycles} cycles.\")"
   ]
  },
  {
   "cell_type": "code",
   "execution_count": 143,
   "id": "a8162e11",
   "metadata": {},
   "outputs": [],
   "source": [
    "solution6, cycles = single_state_solve(initial_state_5000, x6, max_improvement, max_consecutive)\n",
    "print(f\"Solution has fitness: {fitness(solution6, x6)} in {cycles} cycles.\")"
   ]
  },
  {
   "cell_type": "markdown",
   "id": "964373fa",
   "metadata": {},
   "source": [
    "# Results\n",
    "\n",
    "## Maximum failed improvements: 10\n",
    "\n",
    "I set up the algorithm to have a maximum of 10 improvements after which it needed to stop.\n",
    "\n",
    "### First run\n",
    "| Num Points & Sets | Density | Solution Size | Number of Cycles |\n",
    "| ----------------- | ------- | ------------- | ---------------- |\n",
    "| 100               | .3      | 9             | 31               |\n",
    "| 1000              | .3      | 16            | 32               |\n",
    "| 5000              | .3      | 25            | 41               |\n",
    "| 100               | .7      | 3             | 15               |\n",
    "| 1000              | .7      | 6             | 16               |\n",
    "| 5000              | .7      | 7             | 19               |\n",
    "\n",
    "### Second run\n",
    "| Num Points & Sets | Density | Solution Size | Number of Cycles |\n",
    "| ----------------- | ------- | ------------- | ---------------- |\n",
    "| 100               | .3      | 9             | 31               |\n",
    "| 1000              | .3      | 18            | 39               |\n",
    "| 5000              | .3      | 22            | 36               |\n",
    "| 100               | .7      | 3             | 13               |\n",
    "| 1000              | .7      | 5             | 21               |\n",
    "| 5000              | .7      | 7             | 19               |\n",
    "\n",
    "### Third run\n",
    "| Num Points & Sets | Density | Solution Size | Number of Cycles |\n",
    "| ----------------- | ------- | ------------- | ---------------- |\n",
    "| 100               | .3      | 11             | 24               |\n",
    "| 1000              | .3      | 18            | 39               |\n",
    "| 5000              | .3      | 22            | 36               |\n",
    "| 100               | .7      | 3             | 13               |\n",
    "| 1000              | .7      | 5             | 21               |\n",
    "| 5000              | .7      | 7             | 19               |"
   ]
  },
  {
   "cell_type": "markdown",
   "id": "cfa33e1a",
   "metadata": {},
   "source": [
    "## Maximum number of consecutive failed improvements: 10\n",
    "\n",
    "I added a reset of the number of improvements in case the algorithm find a better solution. In this way each a better solution is found, the algorithm tries 10 times to improve it and after that it stops\n",
    "\n",
    "### Runs\n",
    "\n",
    "Three runs have been made generating each time different sets and the results were the same for each run.\n",
    "\n",
    "| Num Points & Sets | Density | Solution Size | Number of Cycles |\n",
    "| ----------------- | ------- | ------------- | ---------------- |\n",
    "| 100               | .3      | 11            | 24               |\n",
    "| 1000              | .3      | 16            | 54               |\n",
    "| 5000              | .3      | 19            | 47               |\n",
    "| 100               | .7      | 4             | 17               |\n",
    "| 1000              | .7      | 6             | 21               |\n",
    "| 5000              | .7      | 8             | 18               |\n"
   ]
  },
  {
   "cell_type": "markdown",
   "id": "5bd8b3d7",
   "metadata": {},
   "source": [
    "## Maximum failed improvements: 5\n",
    "\n",
    "Given that the challenge objective is to find the best solution with the fewest calls to the fitness functions, I decided to try to reduce the number of failed improvements to 5.\n",
    "\n",
    "| Num Points & Sets | Density | Solution Size | Number of Cycles |\n",
    "| ----------------- | ------- | ------------- | ---------------- |\n",
    "| 100               | .3      | 11            | 38               |\n",
    "| 1000              | .3      | 17            | 22               |\n",
    "| 5000              | .3      | 18            | 33               |\n",
    "| 100               | .7      | 3             | 10               |\n",
    "| 1000              | .7      | 6             | 13               |\n",
    "| 5000              | .7      | 7             | 14               |"
   ]
  },
  {
   "cell_type": "markdown",
   "id": "43b6d11f",
   "metadata": {},
   "source": [
    "## Maximum number of concecutives failed improvements: 5.\n",
    "\n",
    "Same reasoning as before.\n",
    "\n",
    "| Num Points & Sets | Density | Solution Size | Number of Cycles |\n",
    "| ----------------- | ------- | ------------- | ---------------- |\n",
    "| 100               | .3      | 11            | 19               |\n",
    "| 1000              | .3      | 21            | 35               |\n",
    "| 5000              | .3      | 20            | 39               |\n",
    "| 100               | .7      | 4             | 9               |\n",
    "| 1000              | .7      | 6             | 11               |\n",
    "| 5000              | .7      | 7             | 18               |"
   ]
  }
 ],
 "metadata": {
  "kernelspec": {
   "display_name": "Python 3 (ipykernel)",
   "language": "python",
   "name": "python3"
  },
  "language_info": {
   "codemirror_mode": {
    "name": "ipython",
    "version": 3
   },
   "file_extension": ".py",
   "mimetype": "text/x-python",
   "name": "python",
   "nbconvert_exporter": "python",
   "pygments_lexer": "ipython3",
   "version": "3.10.12"
  }
 },
 "nbformat": 4,
 "nbformat_minor": 5
}
