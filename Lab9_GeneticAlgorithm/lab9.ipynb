{
 "cells": [
  {
   "cell_type": "markdown",
   "metadata": {},
   "source": [
    "Copyright **`(c)`** 2023 Giovanni Squillero `<giovanni.squillero@polito.it>`  \n",
    "[`https://github.com/squillero/computational-intelligence`](https://github.com/squillero/computational-intelligence)  \n",
    "Free for personal or classroom use; see [`LICENSE.md`](https://github.com/squillero/computational-intelligence/blob/master/LICENSE.md) for details.  "
   ]
  },
  {
   "cell_type": "markdown",
   "metadata": {},
   "source": [
    "# LAB9\n",
    "\n",
    "Write a local-search algorithm (eg. an EA) able to solve the *Problem* instances 1, 2, 5, and 10 on a 1000-loci genomes, using a minimum number of fitness calls. That's all.\n",
    "\n",
    "### Deadlines:\n",
    "\n",
    "* Submission: Sunday, December 3 ([CET](https://www.timeanddate.com/time/zones/cet))\n",
    "* Reviews: Sunday, December 10 ([CET](https://www.timeanddate.com/time/zones/cet))\n",
    "\n",
    "Notes:\n",
    "\n",
    "* Reviews will be assigned  on Monday, December 4\n",
    "* You need to commit in order to be selected as a reviewer (ie. better to commit an empty work than not to commit)"
   ]
  },
  {
   "cell_type": "code",
   "execution_count": 684,
   "metadata": {},
   "outputs": [],
   "source": [
    "from random import choices\n",
    "import random\n",
    "import numpy as np\n",
    "from numpy.random import choice\n",
    "import matplotlib.pyplot as plt\n",
    "\n",
    "import lab9_lib"
   ]
  },
  {
   "cell_type": "markdown",
   "metadata": {},
   "source": [
    "## Evolution Strategy\n",
    "\n",
    "Meaning the functions to apply an evolutionary algorithm to the problem."
   ]
  },
  {
   "cell_type": "code",
   "execution_count": 685,
   "metadata": {},
   "outputs": [],
   "source": [
    "# Generale Parameters\n",
    "N_LOCI = 1000           # number of loci in the chromosome\n",
    "POPULATION_SIZE = 4     #number of parents from which we generate offspring\n",
    "OFFSPRING_SIZE = 6      #number of offspring generated from parents\n",
    "GENETIC_OPS_PROB_SELECTION = 0.5 # probability of selecting a specific genetic operator\n",
    "\n",
    "# Recombination parameters\n",
    "RECOMBINATION_SLICE_SIZE = 500 # size of the first slice of the parent chromosome to be swapped with the other parent \n",
    "\n",
    "# Mutation parameters\n",
    "MUTATION_SLICE_SIZE = 200 # number of bits to mutate\n",
    "\n"
   ]
  },
  {
   "cell_type": "markdown",
   "metadata": {},
   "source": [
    "### Parent selection"
   ]
  },
  {
   "cell_type": "code",
   "execution_count": 686,
   "metadata": {},
   "outputs": [],
   "source": [
    "def parent_selection(population):\n",
    "    pop = population.copy()\n",
    "    prob = random.random()\n",
    "    random.shuffle(pop)\n",
    "    pop = sorted(pop, key = lambda x: x[1]) if prob > 0.5 else pop\n",
    "    return (pop[0], pop[1])"
   ]
  },
  {
   "cell_type": "markdown",
   "metadata": {},
   "source": [
    "### Recombination"
   ]
  },
  {
   "cell_type": "code",
   "execution_count": 687,
   "metadata": {},
   "outputs": [],
   "source": [
    "def recombine(parent1, parent2):\n",
    "    return (\n",
    "        parent1[:RECOMBINATION_SLICE_SIZE] + parent2[RECOMBINATION_SLICE_SIZE:],\n",
    "        parent2[:RECOMBINATION_SLICE_SIZE] + parent1[RECOMBINATION_SLICE_SIZE:]\n",
    "    )"
   ]
  },
  {
   "cell_type": "markdown",
   "metadata": {},
   "source": [
    "### Mutation"
   ]
  },
  {
   "cell_type": "code",
   "execution_count": 688,
   "metadata": {},
   "outputs": [],
   "source": [
    "def mutate(parent):\n",
    "    offspring = parent.copy()\n",
    "    random_gene_indexes = random.sample(range(0, N_LOCI), MUTATION_SLICE_SIZE)\n",
    "    for g in random_gene_indexes:\n",
    "        offspring[g] = 1 - offspring[g]\n",
    "    return offspring"
   ]
  },
  {
   "cell_type": "markdown",
   "metadata": {},
   "source": [
    "### Wrap function"
   ]
  },
  {
   "cell_type": "code",
   "execution_count": 689,
   "metadata": {},
   "outputs": [],
   "source": [
    "def generate_individuals(population):\n",
    "    \"\"\"\n",
    "    Generate individuals for the simulation.\n",
    "\n",
    "    :return: A list of individuals.\n",
    "    \"\"\"\n",
    "    individuals = []\n",
    "    while len(individuals) < OFFSPRING_SIZE:\n",
    "        parents = parent_selection(population)\n",
    "        if random.random() > GENETIC_OPS_PROB_SELECTION:\n",
    "            new_offs = recombine(parents[0][0], parents[1][0])\n",
    "        else: \n",
    "            new_offs = (mutate(parents[0][0]), mutate(parents[1][0]))\n",
    "        individuals.append(new_offs[0])\n",
    "        individuals.append(new_offs[1])\n",
    "\n",
    "    return individuals"
   ]
  },
  {
   "cell_type": "markdown",
   "metadata": {},
   "source": [
    "### Survival selection"
   ]
  },
  {
   "cell_type": "code",
   "execution_count": 690,
   "metadata": {},
   "outputs": [],
   "source": [
    "def natural_selection(population):\n",
    "    \"\"\"\n",
    "    Perform natural selection on the population using a 'plus' strategy\n",
    "\n",
    "    :return: The population after natural selection.\n",
    "    \"\"\"\n",
    "    return sorted(population, key=lambda x: x[1], reverse=True)[:POPULATION_SIZE]"
   ]
  },
  {
   "cell_type": "markdown",
   "metadata": {},
   "source": [
    "## Problem instances"
   ]
  },
  {
   "cell_type": "code",
   "execution_count": 691,
   "metadata": {},
   "outputs": [],
   "source": [
    "def solve_problem(problem_instance):\n",
    "    history = []\n",
    "    fitness = lab9_lib.make_problem(problem_instance)\n",
    "\n",
    "    population = []\n",
    "    for _ in range(POPULATION_SIZE):\n",
    "        individual = [random.randint(0, 1) for _ in range(N_LOCI)]\n",
    "        population.append((individual, fitness(individual)))\n",
    "        \n",
    "    best_individual = population[0]\n",
    "\n",
    "    for _ in range(100):\n",
    "        offsprings = generate_individuals(population)\n",
    "        population += [(individual, fitness(individual)) for individual in offsprings]\n",
    "        history.append(population)\n",
    "        population = natural_selection(population)\n",
    "        best_individual = population[0]\n",
    "        \n",
    "    print(best_individual[1])\n",
    "    print(fitness.calls)\n",
    "    return history"
   ]
  },
  {
   "cell_type": "markdown",
   "metadata": {},
   "source": [
    "### Plot"
   ]
  },
  {
   "cell_type": "code",
   "execution_count": 692,
   "metadata": {},
   "outputs": [
    {
     "data": {
      "image/png": "[encoded data removed]",
      "text/plain": [
       "<Figure size 640x480 with 1 Axes>"
      ]
     },
     "metadata": {},
     "output_type": "display_data"
    },
    {
     "data": {
      "image/png": "[encoded data removed]",
      "text/plain": [
       "<Figure size 640x480 with 1 Axes>"
      ]
     },
     "metadata": {},
     "output_type": "display_data"
    }
   ],
   "source": [
    "avgs =[]\n",
    "for gen in history:        \n",
    "        sum = 0\n",
    "        for el in gen:\n",
    "                sum += el[1]\n",
    "        avg = sum/len(gen)\n",
    "        avgs.append(avg)\n",
    "\n",
    "maxs = []\n",
    "for gen in history:        \n",
    "        max = 0\n",
    "        for el in gen:\n",
    "                max = el[1] if el[1] > max else max\n",
    "        maxs.append(max)\n",
    "\n",
    "plt.plot(range(len(maxs)), maxs)\n",
    "plt.show()\n",
    "plt.plot(range(len(avgs)), avgs)\n",
    "plt.show()"
   ]
  },
  {
   "cell_type": "markdown",
   "metadata": {},
   "source": [
    "## Main"
   ]
  },
  {
   "cell_type": "code",
   "execution_count": 693,
   "metadata": {},
   "outputs": [
    {
     "name": "stdout",
     "output_type": "stream",
     "text": [
      "0.1707056695\n",
      "604\n"
     ]
    }
   ],
   "source": [
    "history = solve_problem(10)\n"
   ]
  }
 ],
 "metadata": {
  "kernelspec": {
   "display_name": "ci-fLJ3OwGs-py3.12",
   "language": "python",
   "name": "python3"
  },
  "language_info": {
   "codemirror_mode": {
    "name": "ipython",
    "version": 3
   },
   "file_extension": ".py",
   "mimetype": "text/x-python",
   "name": "python",
   "nbconvert_exporter": "python",
   "pygments_lexer": "ipython3",
   "version": "3.10.11"
  }
 },
 "nbformat": 4,
 "nbformat_minor": 2
}
